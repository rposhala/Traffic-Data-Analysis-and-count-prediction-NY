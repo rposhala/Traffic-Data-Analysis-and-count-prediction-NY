{
 "cells": [
  {
   "cell_type": "code",
   "execution_count": 522,
   "metadata": {},
   "outputs": [],
   "source": [
    "import numpy as np\n",
    "import pandas as pd\n",
    "import matplotlib.pyplot as plt\n",
    "# import seaborn as sns\n",
    "from sklearn.neighbors import KNeighborsClassifier\n",
    "from sklearn.preprocessing import LabelEncoder, scale\n",
    "from sklearn.model_selection import train_test_split\n",
    "from sklearn.preprocessing import StandardScaler\n",
    "from sklearn.linear_model import LinearRegression, ElasticNet, SGDRegressor\n",
    "from sklearn.tree import DecisionTreeRegressor\n",
    "from sklearn import svm\n",
    "from sklearn.neural_network import MLPRegressor\n",
    "\n",
    "%matplotlib inline"
   ]
  },
  {
   "cell_type": "markdown",
   "metadata": {},
   "source": [
    "# Loading the dataset"
   ]
  },
  {
   "cell_type": "code",
   "execution_count": 583,
   "metadata": {},
   "outputs": [
    {
     "data": {
      "text/html": [
       "<div>\n",
       "<style scoped>\n",
       "    .dataframe tbody tr th:only-of-type {\n",
       "        vertical-align: middle;\n",
       "    }\n",
       "\n",
       "    .dataframe tbody tr th {\n",
       "        vertical-align: top;\n",
       "    }\n",
       "\n",
       "    .dataframe thead th {\n",
       "        text-align: right;\n",
       "    }\n",
       "</style>\n",
       "<table border=\"1\" class=\"dataframe\">\n",
       "  <thead>\n",
       "    <tr style=\"text-align: right;\">\n",
       "      <th></th>\n",
       "      <th>Year</th>\n",
       "      <th>Station ID</th>\n",
       "      <th>County</th>\n",
       "      <th>Signing</th>\n",
       "      <th>State Route</th>\n",
       "      <th>County Road</th>\n",
       "      <th>Road Name</th>\n",
       "      <th>Beginning Description</th>\n",
       "      <th>Ending Description</th>\n",
       "      <th>Municipality</th>\n",
       "      <th>Length</th>\n",
       "      <th>Functional Class</th>\n",
       "      <th>Ramp</th>\n",
       "      <th>Bridge</th>\n",
       "      <th>Railroad Crossing</th>\n",
       "      <th>One Way</th>\n",
       "      <th>Count</th>\n",
       "    </tr>\n",
       "  </thead>\n",
       "  <tbody>\n",
       "    <tr>\n",
       "      <th>0</th>\n",
       "      <td>2019</td>\n",
       "      <td>10001</td>\n",
       "      <td>Bronx</td>\n",
       "      <td>Interstate</td>\n",
       "      <td>95</td>\n",
       "      <td>NaN</td>\n",
       "      <td>Alexander Hamil</td>\n",
       "      <td>NY/Bronx Co Line</td>\n",
       "      <td>I-87 MAJ DEEGAN EXP UNDER</td>\n",
       "      <td>Bronx</td>\n",
       "      <td>7</td>\n",
       "      <td>11</td>\n",
       "      <td>NaN</td>\n",
       "      <td>Y</td>\n",
       "      <td>NaN</td>\n",
       "      <td>NaN</td>\n",
       "      <td>81839.0</td>\n",
       "    </tr>\n",
       "    <tr>\n",
       "      <th>1</th>\n",
       "      <td>2019</td>\n",
       "      <td>10002</td>\n",
       "      <td>Bronx</td>\n",
       "      <td>Interstate</td>\n",
       "      <td>95</td>\n",
       "      <td>NaN</td>\n",
       "      <td>Cross Bronx Exp</td>\n",
       "      <td>I-87 MAJ DEEGAN EXP UNDER</td>\n",
       "      <td>MACOMBS RD OVER</td>\n",
       "      <td>Bronx</td>\n",
       "      <td>51</td>\n",
       "      <td>11</td>\n",
       "      <td>NaN</td>\n",
       "      <td>Y</td>\n",
       "      <td>NaN</td>\n",
       "      <td>NaN</td>\n",
       "      <td>92512.0</td>\n",
       "    </tr>\n",
       "    <tr>\n",
       "      <th>2</th>\n",
       "      <td>2019</td>\n",
       "      <td>10003</td>\n",
       "      <td>Bronx</td>\n",
       "      <td>Interstate</td>\n",
       "      <td>95</td>\n",
       "      <td>NaN</td>\n",
       "      <td>Cross Bronx Exp</td>\n",
       "      <td>MACOMBS RD OVER</td>\n",
       "      <td>END I-95/US1 OLAP WEBSTER AV</td>\n",
       "      <td>Bronx</td>\n",
       "      <td>63</td>\n",
       "      <td>11</td>\n",
       "      <td>NaN</td>\n",
       "      <td>NaN</td>\n",
       "      <td>NaN</td>\n",
       "      <td>NaN</td>\n",
       "      <td>140871.0</td>\n",
       "    </tr>\n",
       "    <tr>\n",
       "      <th>3</th>\n",
       "      <td>2019</td>\n",
       "      <td>10004</td>\n",
       "      <td>Bronx</td>\n",
       "      <td>US</td>\n",
       "      <td>1</td>\n",
       "      <td>NaN</td>\n",
       "      <td>WEBSTER AVE</td>\n",
       "      <td>END I-95/US1 OLAP WEBSTER AV</td>\n",
       "      <td>E FORDHAM RD</td>\n",
       "      <td>Bronx</td>\n",
       "      <td>151</td>\n",
       "      <td>14</td>\n",
       "      <td>NaN</td>\n",
       "      <td>NaN</td>\n",
       "      <td>NaN</td>\n",
       "      <td>NaN</td>\n",
       "      <td>15198.0</td>\n",
       "    </tr>\n",
       "    <tr>\n",
       "      <th>4</th>\n",
       "      <td>2019</td>\n",
       "      <td>10005</td>\n",
       "      <td>Bronx</td>\n",
       "      <td>US</td>\n",
       "      <td>1</td>\n",
       "      <td>NaN</td>\n",
       "      <td>E FORDHAM RD</td>\n",
       "      <td>E FORDHAM RD</td>\n",
       "      <td>RT 907H BRONX RIVER PKWY SOU</td>\n",
       "      <td>Bronx</td>\n",
       "      <td>112</td>\n",
       "      <td>14</td>\n",
       "      <td>NaN</td>\n",
       "      <td>Y</td>\n",
       "      <td>NaN</td>\n",
       "      <td>NaN</td>\n",
       "      <td>32254.0</td>\n",
       "    </tr>\n",
       "  </tbody>\n",
       "</table>\n",
       "</div>"
      ],
      "text/plain": [
       "   Year  Station ID County     Signing State Route County Road  \\\n",
       "0  2019       10001  Bronx  Interstate          95         NaN   \n",
       "1  2019       10002  Bronx  Interstate          95         NaN   \n",
       "2  2019       10003  Bronx  Interstate          95         NaN   \n",
       "3  2019       10004  Bronx          US           1         NaN   \n",
       "4  2019       10005  Bronx          US           1         NaN   \n",
       "\n",
       "         Road Name         Beginning Description  \\\n",
       "0  Alexander Hamil              NY/Bronx Co Line   \n",
       "1  Cross Bronx Exp     I-87 MAJ DEEGAN EXP UNDER   \n",
       "2  Cross Bronx Exp               MACOMBS RD OVER   \n",
       "3      WEBSTER AVE  END I-95/US1 OLAP WEBSTER AV   \n",
       "4     E FORDHAM RD                  E FORDHAM RD   \n",
       "\n",
       "             Ending Description Municipality  Length  Functional Class Ramp  \\\n",
       "0     I-87 MAJ DEEGAN EXP UNDER        Bronx       7                11  NaN   \n",
       "1               MACOMBS RD OVER        Bronx      51                11  NaN   \n",
       "2  END I-95/US1 OLAP WEBSTER AV        Bronx      63                11  NaN   \n",
       "3                  E FORDHAM RD        Bronx     151                14  NaN   \n",
       "4  RT 907H BRONX RIVER PKWY SOU        Bronx     112                14  NaN   \n",
       "\n",
       "  Bridge Railroad Crossing One Way     Count  \n",
       "0      Y               NaN     NaN   81839.0  \n",
       "1      Y               NaN     NaN   92512.0  \n",
       "2    NaN               NaN     NaN  140871.0  \n",
       "3    NaN               NaN     NaN   15198.0  \n",
       "4      Y               NaN     NaN   32254.0  "
      ]
     },
     "execution_count": 583,
     "metadata": {},
     "output_type": "execute_result"
    }
   ],
   "source": [
    "data = pd.read_csv('Annual_Average_Daily_Traffic__AADT___Beginning_1977.csv')\n",
    "data.head()"
   ]
  },
  {
   "cell_type": "code",
   "execution_count": 18,
   "metadata": {},
   "outputs": [
    {
     "data": {
      "text/plain": [
       "(2593803, 17)"
      ]
     },
     "execution_count": 18,
     "metadata": {},
     "output_type": "execute_result"
    }
   ],
   "source": [
    "data.shape"
   ]
  },
  {
   "cell_type": "markdown",
   "metadata": {},
   "source": [
    " Original dataset has 2593803 entries with 17 variables"
   ]
  },
  {
   "cell_type": "code",
   "execution_count": 6,
   "metadata": {},
   "outputs": [
    {
     "data": {
      "text/plain": [
       "<bound method NDFrame.describe of          Year  Station ID County     Signing State Route County Road  \\\n",
       "0        2019       10001  Bronx  Interstate          95         NaN   \n",
       "1        2019       10002  Bronx  Interstate          95         NaN   \n",
       "2        2019       10003  Bronx  Interstate          95         NaN   \n",
       "3        2019       10004  Bronx          US           1         NaN   \n",
       "4        2019       10005  Bronx          US           1         NaN   \n",
       "...       ...         ...    ...         ...         ...         ...   \n",
       "2593798  1977      978036  Tioga         NaN         NaN        CR17   \n",
       "2593799  1977      978037  Tioga         NaN         NaN         NaN   \n",
       "2593800  1977      978516  Tioga         NaN         NaN        CR25   \n",
       "2593801  1977      978534  Tioga         NaN         NaN        CR43   \n",
       "2593802  1977      978608  Tioga         NaN         NaN         CR7   \n",
       "\n",
       "               Road Name         Beginning Description  \\\n",
       "0        Alexander Hamil              NY/Bronx Co Line   \n",
       "1        Cross Bronx Exp     I-87 MAJ DEEGAN EXP UNDER   \n",
       "2        Cross Bronx Exp               MACOMBS RD OVER   \n",
       "3            WEBSTER AVE  END I-95/US1 OLAP WEBSTER AV   \n",
       "4           E FORDHAM RD                  E FORDHAM RD   \n",
       "...                  ...                           ...   \n",
       "2593798       BERRY ROAD             HUNTS CREEK RD RD   \n",
       "2593799   N ELLISTOWN RD                  BROAD ST EXT   \n",
       "2593800  SULPHUR SPRINGS                     SIBLEY RD   \n",
       "2593801      GOODRICH RD                        NY 17C   \n",
       "2593802  HALSEY VALLEY R                    BARTON T/L   \n",
       "\n",
       "                   Ending Description Municipality  Length  Functional Class  \\\n",
       "0           I-87 MAJ DEEGAN EXP UNDER        Bronx       7                11   \n",
       "1                     MACOMBS RD OVER        Bronx      51                11   \n",
       "2        END I-95/US1 OLAP WEBSTER AV        Bronx      63                11   \n",
       "3                        E FORDHAM RD        Bronx     151                14   \n",
       "4        RT 907H BRONX RIVER PKWY SOU        Bronx     112                14   \n",
       "...                               ...          ...     ...               ...   \n",
       "2593798               STANTON HILL RD      Nichols      77                19   \n",
       "2593799                        NY 17C       Barton      33                17   \n",
       "2593800                   NICHOLS T/L        Owego      56                 8   \n",
       "2593801                         CR 43        Tioga      10                19   \n",
       "2593802                   SPENCER T/L       Barton      89                 7   \n",
       "\n",
       "        Ramp Bridge Railroad Crossing One Way     Count  \n",
       "0        NaN      Y               NaN     NaN   81839.0  \n",
       "1        NaN      Y               NaN     NaN   92512.0  \n",
       "2        NaN    NaN               NaN     NaN  140871.0  \n",
       "3        NaN    NaN               NaN     NaN   15198.0  \n",
       "4        NaN      Y               NaN     NaN   32254.0  \n",
       "...      ...    ...               ...     ...       ...  \n",
       "2593798  NaN    NaN               NaN     NaN       NaN  \n",
       "2593799  NaN    NaN               NaN     NaN       NaN  \n",
       "2593800  NaN    NaN               NaN     NaN       NaN  \n",
       "2593801  NaN    NaN               NaN     NaN       NaN  \n",
       "2593802  NaN    NaN               NaN     NaN       NaN  \n",
       "\n",
       "[2593803 rows x 17 columns]>"
      ]
     },
     "execution_count": 6,
     "metadata": {},
     "output_type": "execute_result"
    }
   ],
   "source": [
    "data.describe"
   ]
  },
  {
   "cell_type": "code",
   "execution_count": 14,
   "metadata": {},
   "outputs": [
    {
     "data": {
      "text/plain": [
       "Year                           0\n",
       "Station ID                     0\n",
       "County                        43\n",
       "Signing                  2238365\n",
       "State Route              2192140\n",
       "County Road              2094100\n",
       "Road Name                 252066\n",
       "Beginning Description       8557\n",
       "Ending Description         13674\n",
       "Municipality               30573\n",
       "Length                         0\n",
       "Functional Class               0\n",
       "Ramp                     2376653\n",
       "Bridge                   1977957\n",
       "Railroad Crossing        2481014\n",
       "One Way                  2234624\n",
       "Count                    2273761\n",
       "dtype: int64"
      ]
     },
     "execution_count": 14,
     "metadata": {},
     "output_type": "execute_result"
    }
   ],
   "source": [
    "data.isnull().sum(axis=0)\n",
    "# data.isnull().sum()"
   ]
  },
  {
   "cell_type": "code",
   "execution_count": 50,
   "metadata": {},
   "outputs": [
    {
     "data": {
      "text/plain": [
       "Year                           0\n",
       "Station ID                     0\n",
       "County                        23\n",
       "Signing                  1197265\n",
       "State Route              1172540\n",
       "County Road              1120100\n",
       "Road Name                 134826\n",
       "Beginning Description       4577\n",
       "Ending Description          7314\n",
       "Municipality               16353\n",
       "Length                         0\n",
       "Functional Class               0\n",
       "Ramp                     1271233\n",
       "Bridge                   1057977\n",
       "Railroad Crossing        1327054\n",
       "One Way                  1195264\n",
       "Count                    1302767\n",
       "dtype: int64"
      ]
     },
     "execution_count": 50,
     "metadata": {},
     "output_type": "execute_result"
    }
   ],
   "source": [
    "## checking the quantity of missing values before year 2000 to compare with the overall counts\n",
    "data[data['Year'] < 2000].isnull().sum()"
   ]
  },
  {
   "cell_type": "markdown",
   "metadata": {},
   "source": [
    "---\n",
    "\n",
    "We can observe that there is a lot of missing data of almost all the variables. And from the above describe, we can see that missing data belongs to the very beginning year(s) of data collection (like more than half of the missing data occurred before the year 2000) and also the original dataset has 2593803 entries which is overwhelming for this assignment."
   ]
  },
  {
   "cell_type": "markdown",
   "metadata": {},
   "source": [
    "So, for this assignment a subset of the original dataset which belong to the year 2019 was picked\n",
    "\n",
    "\n",
    "---"
   ]
  },
  {
   "cell_type": "markdown",
   "metadata": {},
   "source": [
    "# Part 1:"
   ]
  },
  {
   "cell_type": "markdown",
   "metadata": {},
   "source": [
    "## Extracting the required dataset"
   ]
  },
  {
   "cell_type": "code",
   "execution_count": 64,
   "metadata": {},
   "outputs": [
    {
     "data": {
      "text/html": [
       "<div>\n",
       "<style scoped>\n",
       "    .dataframe tbody tr th:only-of-type {\n",
       "        vertical-align: middle;\n",
       "    }\n",
       "\n",
       "    .dataframe tbody tr th {\n",
       "        vertical-align: top;\n",
       "    }\n",
       "\n",
       "    .dataframe thead th {\n",
       "        text-align: right;\n",
       "    }\n",
       "</style>\n",
       "<table border=\"1\" class=\"dataframe\">\n",
       "  <thead>\n",
       "    <tr style=\"text-align: right;\">\n",
       "      <th></th>\n",
       "      <th>Year</th>\n",
       "      <th>Station ID</th>\n",
       "      <th>County</th>\n",
       "      <th>Signing</th>\n",
       "      <th>State Route</th>\n",
       "      <th>County Road</th>\n",
       "      <th>Road Name</th>\n",
       "      <th>Beginning Description</th>\n",
       "      <th>Ending Description</th>\n",
       "      <th>Municipality</th>\n",
       "      <th>Length</th>\n",
       "      <th>Functional Class</th>\n",
       "      <th>Ramp</th>\n",
       "      <th>Bridge</th>\n",
       "      <th>Railroad Crossing</th>\n",
       "      <th>One Way</th>\n",
       "      <th>Count</th>\n",
       "    </tr>\n",
       "  </thead>\n",
       "  <tbody>\n",
       "    <tr>\n",
       "      <th>0</th>\n",
       "      <td>2019</td>\n",
       "      <td>10001</td>\n",
       "      <td>Bronx</td>\n",
       "      <td>Interstate</td>\n",
       "      <td>95</td>\n",
       "      <td>NaN</td>\n",
       "      <td>Alexander Hamil</td>\n",
       "      <td>NY/Bronx Co Line</td>\n",
       "      <td>I-87 MAJ DEEGAN EXP UNDER</td>\n",
       "      <td>Bronx</td>\n",
       "      <td>7</td>\n",
       "      <td>11</td>\n",
       "      <td>NaN</td>\n",
       "      <td>Y</td>\n",
       "      <td>NaN</td>\n",
       "      <td>NaN</td>\n",
       "      <td>81839.0</td>\n",
       "    </tr>\n",
       "    <tr>\n",
       "      <th>1</th>\n",
       "      <td>2019</td>\n",
       "      <td>10002</td>\n",
       "      <td>Bronx</td>\n",
       "      <td>Interstate</td>\n",
       "      <td>95</td>\n",
       "      <td>NaN</td>\n",
       "      <td>Cross Bronx Exp</td>\n",
       "      <td>I-87 MAJ DEEGAN EXP UNDER</td>\n",
       "      <td>MACOMBS RD OVER</td>\n",
       "      <td>Bronx</td>\n",
       "      <td>51</td>\n",
       "      <td>11</td>\n",
       "      <td>NaN</td>\n",
       "      <td>Y</td>\n",
       "      <td>NaN</td>\n",
       "      <td>NaN</td>\n",
       "      <td>92512.0</td>\n",
       "    </tr>\n",
       "    <tr>\n",
       "      <th>2</th>\n",
       "      <td>2019</td>\n",
       "      <td>10003</td>\n",
       "      <td>Bronx</td>\n",
       "      <td>Interstate</td>\n",
       "      <td>95</td>\n",
       "      <td>NaN</td>\n",
       "      <td>Cross Bronx Exp</td>\n",
       "      <td>MACOMBS RD OVER</td>\n",
       "      <td>END I-95/US1 OLAP WEBSTER AV</td>\n",
       "      <td>Bronx</td>\n",
       "      <td>63</td>\n",
       "      <td>11</td>\n",
       "      <td>NaN</td>\n",
       "      <td>NaN</td>\n",
       "      <td>NaN</td>\n",
       "      <td>NaN</td>\n",
       "      <td>140871.0</td>\n",
       "    </tr>\n",
       "    <tr>\n",
       "      <th>3</th>\n",
       "      <td>2019</td>\n",
       "      <td>10004</td>\n",
       "      <td>Bronx</td>\n",
       "      <td>US</td>\n",
       "      <td>1</td>\n",
       "      <td>NaN</td>\n",
       "      <td>WEBSTER AVE</td>\n",
       "      <td>END I-95/US1 OLAP WEBSTER AV</td>\n",
       "      <td>E FORDHAM RD</td>\n",
       "      <td>Bronx</td>\n",
       "      <td>151</td>\n",
       "      <td>14</td>\n",
       "      <td>NaN</td>\n",
       "      <td>NaN</td>\n",
       "      <td>NaN</td>\n",
       "      <td>NaN</td>\n",
       "      <td>15198.0</td>\n",
       "    </tr>\n",
       "    <tr>\n",
       "      <th>4</th>\n",
       "      <td>2019</td>\n",
       "      <td>10005</td>\n",
       "      <td>Bronx</td>\n",
       "      <td>US</td>\n",
       "      <td>1</td>\n",
       "      <td>NaN</td>\n",
       "      <td>E FORDHAM RD</td>\n",
       "      <td>E FORDHAM RD</td>\n",
       "      <td>RT 907H BRONX RIVER PKWY SOU</td>\n",
       "      <td>Bronx</td>\n",
       "      <td>112</td>\n",
       "      <td>14</td>\n",
       "      <td>NaN</td>\n",
       "      <td>Y</td>\n",
       "      <td>NaN</td>\n",
       "      <td>NaN</td>\n",
       "      <td>32254.0</td>\n",
       "    </tr>\n",
       "  </tbody>\n",
       "</table>\n",
       "</div>"
      ],
      "text/plain": [
       "   Year  Station ID County     Signing State Route County Road  \\\n",
       "0  2019       10001  Bronx  Interstate          95         NaN   \n",
       "1  2019       10002  Bronx  Interstate          95         NaN   \n",
       "2  2019       10003  Bronx  Interstate          95         NaN   \n",
       "3  2019       10004  Bronx          US           1         NaN   \n",
       "4  2019       10005  Bronx          US           1         NaN   \n",
       "\n",
       "         Road Name         Beginning Description  \\\n",
       "0  Alexander Hamil              NY/Bronx Co Line   \n",
       "1  Cross Bronx Exp     I-87 MAJ DEEGAN EXP UNDER   \n",
       "2  Cross Bronx Exp               MACOMBS RD OVER   \n",
       "3      WEBSTER AVE  END I-95/US1 OLAP WEBSTER AV   \n",
       "4     E FORDHAM RD                  E FORDHAM RD   \n",
       "\n",
       "             Ending Description Municipality  Length  Functional Class Ramp  \\\n",
       "0     I-87 MAJ DEEGAN EXP UNDER        Bronx       7                11  NaN   \n",
       "1               MACOMBS RD OVER        Bronx      51                11  NaN   \n",
       "2  END I-95/US1 OLAP WEBSTER AV        Bronx      63                11  NaN   \n",
       "3                  E FORDHAM RD        Bronx     151                14  NaN   \n",
       "4  RT 907H BRONX RIVER PKWY SOU        Bronx     112                14  NaN   \n",
       "\n",
       "  Bridge Railroad Crossing One Way     Count  \n",
       "0      Y               NaN     NaN   81839.0  \n",
       "1      Y               NaN     NaN   92512.0  \n",
       "2    NaN               NaN     NaN  140871.0  \n",
       "3    NaN               NaN     NaN   15198.0  \n",
       "4      Y               NaN     NaN   32254.0  "
      ]
     },
     "execution_count": 64,
     "metadata": {},
     "output_type": "execute_result"
    }
   ],
   "source": [
    "data_2019 = data[data['Year'] == 2019]\n",
    "data_2019.head()"
   ]
  },
  {
   "cell_type": "markdown",
   "metadata": {},
   "source": [
    "# 1. Dataset has 60321 entries with 17 variables"
   ]
  },
  {
   "cell_type": "code",
   "execution_count": 27,
   "metadata": {},
   "outputs": [
    {
     "data": {
      "text/plain": [
       "(60321, 17)"
      ]
     },
     "execution_count": 27,
     "metadata": {},
     "output_type": "execute_result"
    }
   ],
   "source": [
    "data_2019.shape"
   ]
  },
  {
   "cell_type": "markdown",
   "metadata": {},
   "source": [
    "# 2. Types of data included :"
   ]
  },
  {
   "cell_type": "code",
   "execution_count": 11,
   "metadata": {},
   "outputs": [
    {
     "name": "stdout",
     "output_type": "stream",
     "text": [
      "<class 'pandas.core.frame.DataFrame'>\n",
      "RangeIndex: 2593803 entries, 0 to 2593802\n",
      "Data columns (total 17 columns):\n",
      "Year                     int64\n",
      "Station ID               int64\n",
      "County                   object\n",
      "Signing                  object\n",
      "State Route              object\n",
      "County Road              object\n",
      "Road Name                object\n",
      "Beginning Description    object\n",
      "Ending Description       object\n",
      "Municipality             object\n",
      "Length                   int64\n",
      "Functional Class         int64\n",
      "Ramp                     object\n",
      "Bridge                   object\n",
      "Railroad Crossing        object\n",
      "One Way                  object\n",
      "Count                    float64\n",
      "dtypes: float64(1), int64(4), object(12)\n",
      "memory usage: 336.4+ MB\n"
     ]
    }
   ],
   "source": [
    "data.info()"
   ]
  },
  {
   "cell_type": "markdown",
   "metadata": {},
   "source": [
    "The description of each column can be found at https://data.ny.gov/Government-Finance/Annual-Population-Estimates-for-New-York-State-and/krt9-ym2k"
   ]
  },
  {
   "cell_type": "markdown",
   "metadata": {},
   "source": [
    "# 3. Looking for missing data :"
   ]
  },
  {
   "cell_type": "code",
   "execution_count": 24,
   "metadata": {},
   "outputs": [
    {
     "data": {
      "text/plain": [
       "Year                         0\n",
       "Station ID                   0\n",
       "County                       1\n",
       "Signing                  52055\n",
       "State Route              50980\n",
       "County Road              48700\n",
       "Road Name                 5862\n",
       "Beginning Description      199\n",
       "Ending Description         318\n",
       "Municipality               711\n",
       "Length                       0\n",
       "Functional Class             0\n",
       "Ramp                     55271\n",
       "Bridge                   45999\n",
       "Railroad Crossing        57698\n",
       "One Way                  51968\n",
       "Count                        0\n",
       "dtype: int64"
      ]
     },
     "execution_count": 24,
     "metadata": {},
     "output_type": "execute_result"
    }
   ],
   "source": [
    "data_2019.isnull().sum(axis=0)"
   ]
  },
  {
   "attachments": {
    "adl_p1.png": {
     "image/png": "[encoded data removed]"
    }
   },
   "cell_type": "markdown",
   "metadata": {},
   "source": [
    "![adl_p1.png](attachment:adl_p1.png)"
   ]
  },
  {
   "cell_type": "markdown",
   "metadata": {},
   "source": [
    "---\n",
    "\n",
    "Here columns like Ramp, Bridge, Railroad Crossing, One way has a lot of missing values but from the metadata/column description we can know that these columns have possibly two values, one of them is 'Y' and the other was just left as null (which got reflected as a missing value). So Missing values of above four columns are not considered.\n",
    "\n",
    "\n",
    "---"
   ]
  },
  {
   "cell_type": "markdown",
   "metadata": {},
   "source": [
    "# 4. Main statistics about the entries of the dataset :"
   ]
  },
  {
   "cell_type": "code",
   "execution_count": 55,
   "metadata": {},
   "outputs": [
    {
     "data": {
      "text/html": [
       "<div>\n",
       "<style scoped>\n",
       "    .dataframe tbody tr th:only-of-type {\n",
       "        vertical-align: middle;\n",
       "    }\n",
       "\n",
       "    .dataframe tbody tr th {\n",
       "        vertical-align: top;\n",
       "    }\n",
       "\n",
       "    .dataframe thead th {\n",
       "        text-align: right;\n",
       "    }\n",
       "</style>\n",
       "<table border=\"1\" class=\"dataframe\">\n",
       "  <thead>\n",
       "    <tr style=\"text-align: right;\">\n",
       "      <th></th>\n",
       "      <th>Year</th>\n",
       "      <th>Station ID</th>\n",
       "      <th>Length</th>\n",
       "      <th>Functional Class</th>\n",
       "      <th>Count</th>\n",
       "    </tr>\n",
       "  </thead>\n",
       "  <tbody>\n",
       "    <tr>\n",
       "      <th>count</th>\n",
       "      <td>60321.0</td>\n",
       "      <td>60321.000000</td>\n",
       "      <td>60321.000000</td>\n",
       "      <td>60321.000000</td>\n",
       "      <td>60321.000000</td>\n",
       "    </tr>\n",
       "    <tr>\n",
       "      <th>mean</th>\n",
       "      <td>2019.0</td>\n",
       "      <td>438404.470218</td>\n",
       "      <td>86.561761</td>\n",
       "      <td>14.100612</td>\n",
       "      <td>5432.958157</td>\n",
       "    </tr>\n",
       "    <tr>\n",
       "      <th>std</th>\n",
       "      <td>0.0</td>\n",
       "      <td>308530.825040</td>\n",
       "      <td>124.785483</td>\n",
       "      <td>4.592381</td>\n",
       "      <td>13241.867994</td>\n",
       "    </tr>\n",
       "    <tr>\n",
       "      <th>min</th>\n",
       "      <td>2019.0</td>\n",
       "      <td>10001.000000</td>\n",
       "      <td>1.000000</td>\n",
       "      <td>1.000000</td>\n",
       "      <td>0.000000</td>\n",
       "    </tr>\n",
       "    <tr>\n",
       "      <th>25%</th>\n",
       "      <td>2019.0</td>\n",
       "      <td>115248.000000</td>\n",
       "      <td>18.000000</td>\n",
       "      <td>9.000000</td>\n",
       "      <td>290.000000</td>\n",
       "    </tr>\n",
       "    <tr>\n",
       "      <th>50%</th>\n",
       "      <td>2019.0</td>\n",
       "      <td>440047.000000</td>\n",
       "      <td>42.000000</td>\n",
       "      <td>16.000000</td>\n",
       "      <td>1468.000000</td>\n",
       "    </tr>\n",
       "    <tr>\n",
       "      <th>75%</th>\n",
       "      <td>2019.0</td>\n",
       "      <td>726064.000000</td>\n",
       "      <td>101.000000</td>\n",
       "      <td>19.000000</td>\n",
       "      <td>5520.000000</td>\n",
       "    </tr>\n",
       "    <tr>\n",
       "      <th>max</th>\n",
       "      <td>2019.0</td>\n",
       "      <td>978608.000000</td>\n",
       "      <td>1856.000000</td>\n",
       "      <td>19.000000</td>\n",
       "      <td>283686.000000</td>\n",
       "    </tr>\n",
       "  </tbody>\n",
       "</table>\n",
       "</div>"
      ],
      "text/plain": [
       "          Year     Station ID        Length  Functional Class          Count\n",
       "count  60321.0   60321.000000  60321.000000      60321.000000   60321.000000\n",
       "mean    2019.0  438404.470218     86.561761         14.100612    5432.958157\n",
       "std        0.0  308530.825040    124.785483          4.592381   13241.867994\n",
       "min     2019.0   10001.000000      1.000000          1.000000       0.000000\n",
       "25%     2019.0  115248.000000     18.000000          9.000000     290.000000\n",
       "50%     2019.0  440047.000000     42.000000         16.000000    1468.000000\n",
       "75%     2019.0  726064.000000    101.000000         19.000000    5520.000000\n",
       "max     2019.0  978608.000000   1856.000000         19.000000  283686.000000"
      ]
     },
     "execution_count": 55,
     "metadata": {},
     "output_type": "execute_result"
    }
   ],
   "source": [
    "data_2019.describe()"
   ]
  },
  {
   "cell_type": "markdown",
   "metadata": {},
   "source": [
    "# 5. Visualization of the extracted dataset"
   ]
  },
  {
   "cell_type": "code",
   "execution_count": 537,
   "metadata": {},
   "outputs": [
    {
     "data": {
      "text/plain": [
       "Text(0, 0.5, 'Frequency')"
      ]
     },
     "execution_count": 537,
     "metadata": {},
     "output_type": "execute_result"
    },
    {
     "data": {
      "image/png": "[encoded data removed]",
      "text/plain": [
       "<Figure size 1296x360 with 1 Axes>"
      ]
     },
     "metadata": {
      "needs_background": "light"
     },
     "output_type": "display_data"
    }
   ],
   "source": [
    "data_2019['County'].value_counts().plot.bar(figsize=(18,5))\n",
    "plt.title('Bar plot of Column County (univariate analysis)')\n",
    "plt.xlabel('County')\n",
    "plt.ylabel('Frequency')"
   ]
  },
  {
   "cell_type": "markdown",
   "metadata": {},
   "source": [
    "## We can see that Niagara county has comparatively more traffic than the rest.\n",
    "---"
   ]
  },
  {
   "cell_type": "code",
   "execution_count": 530,
   "metadata": {},
   "outputs": [
    {
     "data": {
      "text/plain": [
       "Text(0.5, 1.0, 'Bar plot of Column Signing (univariate analysis)')"
      ]
     },
     "execution_count": 530,
     "metadata": {},
     "output_type": "execute_result"
    },
    {
     "data": {
      "image/png": "[encoded data removed]",
      "text/plain": [
       "<Figure size 720x360 with 1 Axes>"
      ]
     },
     "metadata": {
      "needs_background": "light"
     },
     "output_type": "display_data"
    }
   ],
   "source": [
    "data_2019['Signing'].value_counts().plot.bar(figsize=(10,5))\n",
    "plt.title('Bar plot of Column Signing (univariate analysis)')"
   ]
  },
  {
   "attachments": {},
   "cell_type": "markdown",
   "metadata": {},
   "source": [
    "---\n",
    "\n",
    "We can observe that New York State Highway designation assigned at the State level is comparatively very large than US and interstate designated highway system. But according to the metadata null's (which are 52055) correspond to local town, municipality or city roadway. So local roadway is much larger than even NY highway.\n",
    "\n",
    "---"
   ]
  },
  {
   "cell_type": "code",
   "execution_count": 532,
   "metadata": {},
   "outputs": [
    {
     "data": {
      "image/png": "[encoded data removed]",
      "text/plain": [
       "<Figure size 432x288 with 1 Axes>"
      ]
     },
     "metadata": {
      "needs_background": "light"
     },
     "output_type": "display_data"
    }
   ],
   "source": [
    "fig, axes = plt.subplots()\n",
    "\n",
    "axes.scatter(data_2019['Length'], data_2019['Count'])\n",
    "plt.title('Correlation plot of traffic volume Counts Vs Length')\n",
    "plt.xlabel('Counts')\n",
    "plt.ylabel('Length')\n",
    "plt.show()\n"
   ]
  },
  {
   "cell_type": "markdown",
   "metadata": {},
   "source": [
    "---\n",
    "\n",
    "This implies that roads with shorter lengths are more likely to have heavy volumes of traffic.\n",
    "\n",
    "---"
   ]
  },
  {
   "cell_type": "code",
   "execution_count": 535,
   "metadata": {},
   "outputs": [
    {
     "data": {
      "image/png": "[encoded data removed]",
      "text/plain": [
       "<Figure size 432x288 with 1 Axes>"
      ]
     },
     "metadata": {
      "needs_background": "light"
     },
     "output_type": "display_data"
    }
   ],
   "source": [
    "fig, axes = plt.subplots()\n",
    "\n",
    "axes.scatter(data_2019['Signing'].fillna('local'), data_2019['Length'])\n",
    "plt.title('Correlation plot to observe distribution of unique lengths of roadways for each Signing (traffic volume Counts Vs Length)')\n",
    "plt.xlabel('Length')\n",
    "plt.ylabel('Signing')\n",
    "plt.show()\n",
    "\n"
   ]
  },
  {
   "cell_type": "markdown",
   "metadata": {},
   "source": [
    "---\n",
    "\n",
    "We can observe that length of road for Interstate and NY highways are a little higher than that of US highways and local roadways\n",
    "\n",
    "---"
   ]
  },
  {
   "cell_type": "code",
   "execution_count": 536,
   "metadata": {},
   "outputs": [
    {
     "data": {
      "image/png": "[encoded data removed]",
      "text/plain": [
       "<Figure size 432x288 with 1 Axes>"
      ]
     },
     "metadata": {
      "needs_background": "light"
     },
     "output_type": "display_data"
    }
   ],
   "source": [
    "fig, axes = plt.subplots()\n",
    "\n",
    "axes.scatter(data_2019['Functional Class'], data_2019['Count'])\n",
    "plt.title('Correlation plot of traffic volume Counts Vs Functional Class')\n",
    "plt.xlabel('Functional Class')\n",
    "plt.ylabel('Count')\n",
    "\n",
    "plt.show()\n"
   ]
  },
  {
   "cell_type": "code",
   "execution_count": 538,
   "metadata": {},
   "outputs": [
    {
     "data": {
      "text/plain": [
       "Text(0, 0.5, 'Frequency')"
      ]
     },
     "execution_count": 538,
     "metadata": {},
     "output_type": "execute_result"
    },
    {
     "data": {
      "image/png": "[encoded data removed]",
      "text/plain": [
       "<Figure size 720x360 with 1 Axes>"
      ]
     },
     "metadata": {
      "needs_background": "light"
     },
     "output_type": "display_data"
    }
   ],
   "source": [
    "data_2019['Functional Class'].value_counts().plot.bar(figsize=(10,5))\n",
    "plt.title('Bar plot of Column Functional Class (univariate analysis)')\n",
    "plt.xlabel('Functional Class')\n",
    "plt.ylabel('Frequency')"
   ]
  },
  {
   "attachments": {
    "adl_p12.png": {
     "image/png": "[encoded data removed]"
    }
   },
   "cell_type": "markdown",
   "metadata": {},
   "source": [
    "![adl_p12.png](attachment:adl_p12.png)"
   ]
  },
  {
   "cell_type": "markdown",
   "metadata": {},
   "source": [
    "---\n",
    "\n",
    "\n",
    "From the above univariate analysis of column Functional Class and metadata about the column, we can observe that Local NYS Codes Urban has comparatively high volumes of traffic. PFB the link for further details.\n",
    "https://www.dot.ny.gov/gisapps/functional-class-maps\n",
    "\n",
    "---"
   ]
  },
  {
   "cell_type": "markdown",
   "metadata": {},
   "source": [
    "# Part 2:"
   ]
  },
  {
   "cell_type": "markdown",
   "metadata": {},
   "source": [
    "# 1. Choose the features and targets in the dataset :"
   ]
  },
  {
   "cell_type": "markdown",
   "metadata": {},
   "source": [
    "---\n",
    "\n",
    "From the observations made out of data analysis and visualization and also taking the metadata into consideration, Below are the features and targets in the dataset:\n",
    "\n",
    "---\n",
    "Features:\n",
    "1. County\n",
    "2. Station ID\n",
    "3. Signing\n",
    "4. Municipality\n",
    "5. Length\n",
    "6. Functional Class\n",
    "7. Ramp\n",
    "8. Bridge\n",
    "9. Railroad Crossing\n",
    "10. One Way\n",
    "---\n",
    "Target/Response variable:\n",
    "\n",
    "Count (Annual Average Daily Traffic volume value)\n",
    "\n",
    "---\n",
    "---"
   ]
  },
  {
   "cell_type": "markdown",
   "metadata": {},
   "source": [
    "# 2. Preprocess the dataset for training :"
   ]
  },
  {
   "cell_type": "markdown",
   "metadata": {},
   "source": [
    "## Dropping the features which are not neccessary for prediction"
   ]
  },
  {
   "cell_type": "code",
   "execution_count": 584,
   "metadata": {},
   "outputs": [
    {
     "data": {
      "text/html": [
       "<div>\n",
       "<style scoped>\n",
       "    .dataframe tbody tr th:only-of-type {\n",
       "        vertical-align: middle;\n",
       "    }\n",
       "\n",
       "    .dataframe tbody tr th {\n",
       "        vertical-align: top;\n",
       "    }\n",
       "\n",
       "    .dataframe thead th {\n",
       "        text-align: right;\n",
       "    }\n",
       "</style>\n",
       "<table border=\"1\" class=\"dataframe\">\n",
       "  <thead>\n",
       "    <tr style=\"text-align: right;\">\n",
       "      <th></th>\n",
       "      <th>Station ID</th>\n",
       "      <th>County</th>\n",
       "      <th>Signing</th>\n",
       "      <th>Municipality</th>\n",
       "      <th>Length</th>\n",
       "      <th>Functional Class</th>\n",
       "      <th>Ramp</th>\n",
       "      <th>Bridge</th>\n",
       "      <th>Railroad Crossing</th>\n",
       "      <th>One Way</th>\n",
       "      <th>Count</th>\n",
       "    </tr>\n",
       "  </thead>\n",
       "  <tbody>\n",
       "    <tr>\n",
       "      <th>0</th>\n",
       "      <td>10001</td>\n",
       "      <td>Bronx</td>\n",
       "      <td>Interstate</td>\n",
       "      <td>Bronx</td>\n",
       "      <td>7</td>\n",
       "      <td>11</td>\n",
       "      <td>NaN</td>\n",
       "      <td>Y</td>\n",
       "      <td>NaN</td>\n",
       "      <td>NaN</td>\n",
       "      <td>81839.0</td>\n",
       "    </tr>\n",
       "    <tr>\n",
       "      <th>1</th>\n",
       "      <td>10002</td>\n",
       "      <td>Bronx</td>\n",
       "      <td>Interstate</td>\n",
       "      <td>Bronx</td>\n",
       "      <td>51</td>\n",
       "      <td>11</td>\n",
       "      <td>NaN</td>\n",
       "      <td>Y</td>\n",
       "      <td>NaN</td>\n",
       "      <td>NaN</td>\n",
       "      <td>92512.0</td>\n",
       "    </tr>\n",
       "    <tr>\n",
       "      <th>2</th>\n",
       "      <td>10003</td>\n",
       "      <td>Bronx</td>\n",
       "      <td>Interstate</td>\n",
       "      <td>Bronx</td>\n",
       "      <td>63</td>\n",
       "      <td>11</td>\n",
       "      <td>NaN</td>\n",
       "      <td>NaN</td>\n",
       "      <td>NaN</td>\n",
       "      <td>NaN</td>\n",
       "      <td>140871.0</td>\n",
       "    </tr>\n",
       "    <tr>\n",
       "      <th>3</th>\n",
       "      <td>10004</td>\n",
       "      <td>Bronx</td>\n",
       "      <td>US</td>\n",
       "      <td>Bronx</td>\n",
       "      <td>151</td>\n",
       "      <td>14</td>\n",
       "      <td>NaN</td>\n",
       "      <td>NaN</td>\n",
       "      <td>NaN</td>\n",
       "      <td>NaN</td>\n",
       "      <td>15198.0</td>\n",
       "    </tr>\n",
       "    <tr>\n",
       "      <th>4</th>\n",
       "      <td>10005</td>\n",
       "      <td>Bronx</td>\n",
       "      <td>US</td>\n",
       "      <td>Bronx</td>\n",
       "      <td>112</td>\n",
       "      <td>14</td>\n",
       "      <td>NaN</td>\n",
       "      <td>Y</td>\n",
       "      <td>NaN</td>\n",
       "      <td>NaN</td>\n",
       "      <td>32254.0</td>\n",
       "    </tr>\n",
       "    <tr>\n",
       "      <th>...</th>\n",
       "      <td>...</td>\n",
       "      <td>...</td>\n",
       "      <td>...</td>\n",
       "      <td>...</td>\n",
       "      <td>...</td>\n",
       "      <td>...</td>\n",
       "      <td>...</td>\n",
       "      <td>...</td>\n",
       "      <td>...</td>\n",
       "      <td>...</td>\n",
       "      <td>...</td>\n",
       "    </tr>\n",
       "    <tr>\n",
       "      <th>60316</th>\n",
       "      <td>978036</td>\n",
       "      <td>Tioga</td>\n",
       "      <td>NaN</td>\n",
       "      <td>Nichols</td>\n",
       "      <td>77</td>\n",
       "      <td>19</td>\n",
       "      <td>NaN</td>\n",
       "      <td>NaN</td>\n",
       "      <td>NaN</td>\n",
       "      <td>NaN</td>\n",
       "      <td>518.0</td>\n",
       "    </tr>\n",
       "    <tr>\n",
       "      <th>60317</th>\n",
       "      <td>978037</td>\n",
       "      <td>Tioga</td>\n",
       "      <td>NaN</td>\n",
       "      <td>Barton</td>\n",
       "      <td>33</td>\n",
       "      <td>17</td>\n",
       "      <td>NaN</td>\n",
       "      <td>NaN</td>\n",
       "      <td>NaN</td>\n",
       "      <td>NaN</td>\n",
       "      <td>1679.0</td>\n",
       "    </tr>\n",
       "    <tr>\n",
       "      <th>60318</th>\n",
       "      <td>978516</td>\n",
       "      <td>Tioga</td>\n",
       "      <td>NaN</td>\n",
       "      <td>Owego</td>\n",
       "      <td>56</td>\n",
       "      <td>8</td>\n",
       "      <td>NaN</td>\n",
       "      <td>NaN</td>\n",
       "      <td>NaN</td>\n",
       "      <td>NaN</td>\n",
       "      <td>306.0</td>\n",
       "    </tr>\n",
       "    <tr>\n",
       "      <th>60319</th>\n",
       "      <td>978534</td>\n",
       "      <td>Tioga</td>\n",
       "      <td>NaN</td>\n",
       "      <td>Tioga</td>\n",
       "      <td>10</td>\n",
       "      <td>19</td>\n",
       "      <td>NaN</td>\n",
       "      <td>NaN</td>\n",
       "      <td>NaN</td>\n",
       "      <td>NaN</td>\n",
       "      <td>272.0</td>\n",
       "    </tr>\n",
       "    <tr>\n",
       "      <th>60320</th>\n",
       "      <td>978608</td>\n",
       "      <td>Tioga</td>\n",
       "      <td>NaN</td>\n",
       "      <td>Barton</td>\n",
       "      <td>89</td>\n",
       "      <td>7</td>\n",
       "      <td>NaN</td>\n",
       "      <td>NaN</td>\n",
       "      <td>NaN</td>\n",
       "      <td>NaN</td>\n",
       "      <td>933.0</td>\n",
       "    </tr>\n",
       "  </tbody>\n",
       "</table>\n",
       "<p>60321 rows × 11 columns</p>\n",
       "</div>"
      ],
      "text/plain": [
       "       Station ID County     Signing Municipality  Length  Functional Class  \\\n",
       "0           10001  Bronx  Interstate        Bronx       7                11   \n",
       "1           10002  Bronx  Interstate        Bronx      51                11   \n",
       "2           10003  Bronx  Interstate        Bronx      63                11   \n",
       "3           10004  Bronx          US        Bronx     151                14   \n",
       "4           10005  Bronx          US        Bronx     112                14   \n",
       "...           ...    ...         ...          ...     ...               ...   \n",
       "60316      978036  Tioga         NaN      Nichols      77                19   \n",
       "60317      978037  Tioga         NaN       Barton      33                17   \n",
       "60318      978516  Tioga         NaN        Owego      56                 8   \n",
       "60319      978534  Tioga         NaN        Tioga      10                19   \n",
       "60320      978608  Tioga         NaN       Barton      89                 7   \n",
       "\n",
       "      Ramp Bridge Railroad Crossing One Way     Count  \n",
       "0      NaN      Y               NaN     NaN   81839.0  \n",
       "1      NaN      Y               NaN     NaN   92512.0  \n",
       "2      NaN    NaN               NaN     NaN  140871.0  \n",
       "3      NaN    NaN               NaN     NaN   15198.0  \n",
       "4      NaN      Y               NaN     NaN   32254.0  \n",
       "...    ...    ...               ...     ...       ...  \n",
       "60316  NaN    NaN               NaN     NaN     518.0  \n",
       "60317  NaN    NaN               NaN     NaN    1679.0  \n",
       "60318  NaN    NaN               NaN     NaN     306.0  \n",
       "60319  NaN    NaN               NaN     NaN     272.0  \n",
       "60320  NaN    NaN               NaN     NaN     933.0  \n",
       "\n",
       "[60321 rows x 11 columns]"
      ]
     },
     "execution_count": 584,
     "metadata": {},
     "output_type": "execute_result"
    }
   ],
   "source": [
    "refined_data_2019 = data_2019.drop(columns=['Year', 'County Road', 'Road Name', 'State Route', 'Beginning Description', 'Ending Description'])\n",
    "refined_data_2019"
   ]
  },
  {
   "cell_type": "markdown",
   "metadata": {},
   "source": [
    "## Replacing null with appropriate label for columns Ramp, Bridge, Railroad Crossing, One way and Signing"
   ]
  },
  {
   "cell_type": "code",
   "execution_count": 585,
   "metadata": {},
   "outputs": [],
   "source": [
    "refined_data_2019['Ramp'].fillna('N', inplace = True)\n",
    "refined_data_2019['Bridge'].fillna('N', inplace = True)\n",
    "refined_data_2019['Railroad Crossing'].fillna('N', inplace = True)\n",
    "refined_data_2019['One Way'].fillna('N', inplace = True)\n",
    "refined_data_2019['Signing'].fillna('Local', inplace = True)"
   ]
  },
  {
   "cell_type": "markdown",
   "metadata": {},
   "source": [
    "## Below we can see columns with null values"
   ]
  },
  {
   "cell_type": "code",
   "execution_count": 586,
   "metadata": {},
   "outputs": [
    {
     "data": {
      "text/plain": [
       "Station ID             0\n",
       "County                 1\n",
       "Signing                0\n",
       "Municipality         711\n",
       "Length                 0\n",
       "Functional Class       0\n",
       "Ramp                   0\n",
       "Bridge                 0\n",
       "Railroad Crossing      0\n",
       "One Way                0\n",
       "Count                  0\n",
       "dtype: int64"
      ]
     },
     "execution_count": 586,
     "metadata": {},
     "output_type": "execute_result"
    }
   ],
   "source": [
    "refined_data_2019.isnull().sum()"
   ]
  },
  {
   "cell_type": "markdown",
   "metadata": {},
   "source": [
    "## It is computationally wise to remove the one row where county name is missing rather than meaningfully replacing it"
   ]
  },
  {
   "cell_type": "code",
   "execution_count": 587,
   "metadata": {},
   "outputs": [
    {
     "data": {
      "text/html": [
       "<div>\n",
       "<style scoped>\n",
       "    .dataframe tbody tr th:only-of-type {\n",
       "        vertical-align: middle;\n",
       "    }\n",
       "\n",
       "    .dataframe tbody tr th {\n",
       "        vertical-align: top;\n",
       "    }\n",
       "\n",
       "    .dataframe thead th {\n",
       "        text-align: right;\n",
       "    }\n",
       "</style>\n",
       "<table border=\"1\" class=\"dataframe\">\n",
       "  <thead>\n",
       "    <tr style=\"text-align: right;\">\n",
       "      <th></th>\n",
       "      <th>Station ID</th>\n",
       "      <th>County</th>\n",
       "      <th>Signing</th>\n",
       "      <th>Municipality</th>\n",
       "      <th>Length</th>\n",
       "      <th>Functional Class</th>\n",
       "      <th>Ramp</th>\n",
       "      <th>Bridge</th>\n",
       "      <th>Railroad Crossing</th>\n",
       "      <th>One Way</th>\n",
       "      <th>Count</th>\n",
       "    </tr>\n",
       "  </thead>\n",
       "  <tbody>\n",
       "    <tr>\n",
       "      <th>0</th>\n",
       "      <td>10001</td>\n",
       "      <td>Bronx</td>\n",
       "      <td>Interstate</td>\n",
       "      <td>Bronx</td>\n",
       "      <td>7</td>\n",
       "      <td>11</td>\n",
       "      <td>N</td>\n",
       "      <td>Y</td>\n",
       "      <td>N</td>\n",
       "      <td>N</td>\n",
       "      <td>81839.0</td>\n",
       "    </tr>\n",
       "    <tr>\n",
       "      <th>1</th>\n",
       "      <td>10002</td>\n",
       "      <td>Bronx</td>\n",
       "      <td>Interstate</td>\n",
       "      <td>Bronx</td>\n",
       "      <td>51</td>\n",
       "      <td>11</td>\n",
       "      <td>N</td>\n",
       "      <td>Y</td>\n",
       "      <td>N</td>\n",
       "      <td>N</td>\n",
       "      <td>92512.0</td>\n",
       "    </tr>\n",
       "    <tr>\n",
       "      <th>2</th>\n",
       "      <td>10003</td>\n",
       "      <td>Bronx</td>\n",
       "      <td>Interstate</td>\n",
       "      <td>Bronx</td>\n",
       "      <td>63</td>\n",
       "      <td>11</td>\n",
       "      <td>N</td>\n",
       "      <td>N</td>\n",
       "      <td>N</td>\n",
       "      <td>N</td>\n",
       "      <td>140871.0</td>\n",
       "    </tr>\n",
       "    <tr>\n",
       "      <th>3</th>\n",
       "      <td>10004</td>\n",
       "      <td>Bronx</td>\n",
       "      <td>US</td>\n",
       "      <td>Bronx</td>\n",
       "      <td>151</td>\n",
       "      <td>14</td>\n",
       "      <td>N</td>\n",
       "      <td>N</td>\n",
       "      <td>N</td>\n",
       "      <td>N</td>\n",
       "      <td>15198.0</td>\n",
       "    </tr>\n",
       "    <tr>\n",
       "      <th>4</th>\n",
       "      <td>10005</td>\n",
       "      <td>Bronx</td>\n",
       "      <td>US</td>\n",
       "      <td>Bronx</td>\n",
       "      <td>112</td>\n",
       "      <td>14</td>\n",
       "      <td>N</td>\n",
       "      <td>Y</td>\n",
       "      <td>N</td>\n",
       "      <td>N</td>\n",
       "      <td>32254.0</td>\n",
       "    </tr>\n",
       "    <tr>\n",
       "      <th>...</th>\n",
       "      <td>...</td>\n",
       "      <td>...</td>\n",
       "      <td>...</td>\n",
       "      <td>...</td>\n",
       "      <td>...</td>\n",
       "      <td>...</td>\n",
       "      <td>...</td>\n",
       "      <td>...</td>\n",
       "      <td>...</td>\n",
       "      <td>...</td>\n",
       "      <td>...</td>\n",
       "    </tr>\n",
       "    <tr>\n",
       "      <th>60316</th>\n",
       "      <td>978036</td>\n",
       "      <td>Tioga</td>\n",
       "      <td>Local</td>\n",
       "      <td>Nichols</td>\n",
       "      <td>77</td>\n",
       "      <td>19</td>\n",
       "      <td>N</td>\n",
       "      <td>N</td>\n",
       "      <td>N</td>\n",
       "      <td>N</td>\n",
       "      <td>518.0</td>\n",
       "    </tr>\n",
       "    <tr>\n",
       "      <th>60317</th>\n",
       "      <td>978037</td>\n",
       "      <td>Tioga</td>\n",
       "      <td>Local</td>\n",
       "      <td>Barton</td>\n",
       "      <td>33</td>\n",
       "      <td>17</td>\n",
       "      <td>N</td>\n",
       "      <td>N</td>\n",
       "      <td>N</td>\n",
       "      <td>N</td>\n",
       "      <td>1679.0</td>\n",
       "    </tr>\n",
       "    <tr>\n",
       "      <th>60318</th>\n",
       "      <td>978516</td>\n",
       "      <td>Tioga</td>\n",
       "      <td>Local</td>\n",
       "      <td>Owego</td>\n",
       "      <td>56</td>\n",
       "      <td>8</td>\n",
       "      <td>N</td>\n",
       "      <td>N</td>\n",
       "      <td>N</td>\n",
       "      <td>N</td>\n",
       "      <td>306.0</td>\n",
       "    </tr>\n",
       "    <tr>\n",
       "      <th>60319</th>\n",
       "      <td>978534</td>\n",
       "      <td>Tioga</td>\n",
       "      <td>Local</td>\n",
       "      <td>Tioga</td>\n",
       "      <td>10</td>\n",
       "      <td>19</td>\n",
       "      <td>N</td>\n",
       "      <td>N</td>\n",
       "      <td>N</td>\n",
       "      <td>N</td>\n",
       "      <td>272.0</td>\n",
       "    </tr>\n",
       "    <tr>\n",
       "      <th>60320</th>\n",
       "      <td>978608</td>\n",
       "      <td>Tioga</td>\n",
       "      <td>Local</td>\n",
       "      <td>Barton</td>\n",
       "      <td>89</td>\n",
       "      <td>7</td>\n",
       "      <td>N</td>\n",
       "      <td>N</td>\n",
       "      <td>N</td>\n",
       "      <td>N</td>\n",
       "      <td>933.0</td>\n",
       "    </tr>\n",
       "  </tbody>\n",
       "</table>\n",
       "<p>60320 rows × 11 columns</p>\n",
       "</div>"
      ],
      "text/plain": [
       "       Station ID County     Signing Municipality  Length  Functional Class  \\\n",
       "0           10001  Bronx  Interstate        Bronx       7                11   \n",
       "1           10002  Bronx  Interstate        Bronx      51                11   \n",
       "2           10003  Bronx  Interstate        Bronx      63                11   \n",
       "3           10004  Bronx          US        Bronx     151                14   \n",
       "4           10005  Bronx          US        Bronx     112                14   \n",
       "...           ...    ...         ...          ...     ...               ...   \n",
       "60316      978036  Tioga       Local      Nichols      77                19   \n",
       "60317      978037  Tioga       Local       Barton      33                17   \n",
       "60318      978516  Tioga       Local        Owego      56                 8   \n",
       "60319      978534  Tioga       Local        Tioga      10                19   \n",
       "60320      978608  Tioga       Local       Barton      89                 7   \n",
       "\n",
       "      Ramp Bridge Railroad Crossing One Way     Count  \n",
       "0        N      Y                 N       N   81839.0  \n",
       "1        N      Y                 N       N   92512.0  \n",
       "2        N      N                 N       N  140871.0  \n",
       "3        N      N                 N       N   15198.0  \n",
       "4        N      Y                 N       N   32254.0  \n",
       "...    ...    ...               ...     ...       ...  \n",
       "60316    N      N                 N       N     518.0  \n",
       "60317    N      N                 N       N    1679.0  \n",
       "60318    N      N                 N       N     306.0  \n",
       "60319    N      N                 N       N     272.0  \n",
       "60320    N      N                 N       N     933.0  \n",
       "\n",
       "[60320 rows x 11 columns]"
      ]
     },
     "execution_count": 587,
     "metadata": {},
     "output_type": "execute_result"
    }
   ],
   "source": [
    "index = refined_data_2019[refined_data_2019['County'].isnull()].index\n",
    "refined_data_2019.drop(index, inplace = True)\n",
    "refined_data_2019"
   ]
  },
  {
   "cell_type": "code",
   "execution_count": 588,
   "metadata": {},
   "outputs": [
    {
     "data": {
      "text/plain": [
       "Station ID             0\n",
       "County                 0\n",
       "Signing                0\n",
       "Municipality         711\n",
       "Length                 0\n",
       "Functional Class       0\n",
       "Ramp                   0\n",
       "Bridge                 0\n",
       "Railroad Crossing      0\n",
       "One Way                0\n",
       "Count                  0\n",
       "dtype: int64"
      ]
     },
     "execution_count": 588,
     "metadata": {},
     "output_type": "execute_result"
    }
   ],
   "source": [
    "refined_data_2019.isnull().sum()"
   ]
  },
  {
   "cell_type": "markdown",
   "metadata": {},
   "source": [
    "## Now we have to handle missing values of column Municipality"
   ]
  },
  {
   "cell_type": "code",
   "execution_count": 589,
   "metadata": {},
   "outputs": [
    {
     "data": {
      "text/html": [
       "<div>\n",
       "<style scoped>\n",
       "    .dataframe tbody tr th:only-of-type {\n",
       "        vertical-align: middle;\n",
       "    }\n",
       "\n",
       "    .dataframe tbody tr th {\n",
       "        vertical-align: top;\n",
       "    }\n",
       "\n",
       "    .dataframe thead th {\n",
       "        text-align: right;\n",
       "    }\n",
       "</style>\n",
       "<table border=\"1\" class=\"dataframe\">\n",
       "  <thead>\n",
       "    <tr style=\"text-align: right;\">\n",
       "      <th></th>\n",
       "      <th>Station ID</th>\n",
       "      <th>County</th>\n",
       "      <th>Signing</th>\n",
       "      <th>Municipality</th>\n",
       "      <th>Length</th>\n",
       "      <th>Functional Class</th>\n",
       "      <th>Ramp</th>\n",
       "      <th>Bridge</th>\n",
       "      <th>Railroad Crossing</th>\n",
       "      <th>One Way</th>\n",
       "      <th>Count</th>\n",
       "    </tr>\n",
       "  </thead>\n",
       "  <tbody>\n",
       "    <tr>\n",
       "      <th>9502</th>\n",
       "      <td>60001</td>\n",
       "      <td>Richmond</td>\n",
       "      <td>Interstate</td>\n",
       "      <td>NaN</td>\n",
       "      <td>180</td>\n",
       "      <td>11</td>\n",
       "      <td>N</td>\n",
       "      <td>Y</td>\n",
       "      <td>N</td>\n",
       "      <td>N</td>\n",
       "      <td>85999.0</td>\n",
       "    </tr>\n",
       "    <tr>\n",
       "      <th>9503</th>\n",
       "      <td>60002</td>\n",
       "      <td>Richmond</td>\n",
       "      <td>Interstate</td>\n",
       "      <td>NaN</td>\n",
       "      <td>24</td>\n",
       "      <td>11</td>\n",
       "      <td>N</td>\n",
       "      <td>Y</td>\n",
       "      <td>N</td>\n",
       "      <td>N</td>\n",
       "      <td>138424.0</td>\n",
       "    </tr>\n",
       "    <tr>\n",
       "      <th>9504</th>\n",
       "      <td>60003</td>\n",
       "      <td>Richmond</td>\n",
       "      <td>Interstate</td>\n",
       "      <td>NaN</td>\n",
       "      <td>16</td>\n",
       "      <td>11</td>\n",
       "      <td>N</td>\n",
       "      <td>Y</td>\n",
       "      <td>N</td>\n",
       "      <td>N</td>\n",
       "      <td>140484.0</td>\n",
       "    </tr>\n",
       "    <tr>\n",
       "      <th>9505</th>\n",
       "      <td>60004</td>\n",
       "      <td>Richmond</td>\n",
       "      <td>Interstate</td>\n",
       "      <td>NaN</td>\n",
       "      <td>70</td>\n",
       "      <td>11</td>\n",
       "      <td>N</td>\n",
       "      <td>Y</td>\n",
       "      <td>N</td>\n",
       "      <td>N</td>\n",
       "      <td>153026.0</td>\n",
       "    </tr>\n",
       "    <tr>\n",
       "      <th>9506</th>\n",
       "      <td>60005</td>\n",
       "      <td>Richmond</td>\n",
       "      <td>Interstate</td>\n",
       "      <td>NaN</td>\n",
       "      <td>188</td>\n",
       "      <td>11</td>\n",
       "      <td>N</td>\n",
       "      <td>Y</td>\n",
       "      <td>N</td>\n",
       "      <td>N</td>\n",
       "      <td>158756.0</td>\n",
       "    </tr>\n",
       "    <tr>\n",
       "      <th>...</th>\n",
       "      <td>...</td>\n",
       "      <td>...</td>\n",
       "      <td>...</td>\n",
       "      <td>...</td>\n",
       "      <td>...</td>\n",
       "      <td>...</td>\n",
       "      <td>...</td>\n",
       "      <td>...</td>\n",
       "      <td>...</td>\n",
       "      <td>...</td>\n",
       "      <td>...</td>\n",
       "    </tr>\n",
       "    <tr>\n",
       "      <th>10208</th>\n",
       "      <td>67001</td>\n",
       "      <td>Richmond</td>\n",
       "      <td>Local</td>\n",
       "      <td>NaN</td>\n",
       "      <td>32</td>\n",
       "      <td>19</td>\n",
       "      <td>N</td>\n",
       "      <td>N</td>\n",
       "      <td>Y</td>\n",
       "      <td>N</td>\n",
       "      <td>11463.0</td>\n",
       "    </tr>\n",
       "    <tr>\n",
       "      <th>10209</th>\n",
       "      <td>68000</td>\n",
       "      <td>Richmond</td>\n",
       "      <td>Local</td>\n",
       "      <td>NaN</td>\n",
       "      <td>67</td>\n",
       "      <td>16</td>\n",
       "      <td>N</td>\n",
       "      <td>N</td>\n",
       "      <td>N</td>\n",
       "      <td>N</td>\n",
       "      <td>13211.0</td>\n",
       "    </tr>\n",
       "    <tr>\n",
       "      <th>31703</th>\n",
       "      <td>510005</td>\n",
       "      <td>Cattaraugus</td>\n",
       "      <td>NY</td>\n",
       "      <td>NaN</td>\n",
       "      <td>24</td>\n",
       "      <td>4</td>\n",
       "      <td>N</td>\n",
       "      <td>Y</td>\n",
       "      <td>N</td>\n",
       "      <td>N</td>\n",
       "      <td>15499.0</td>\n",
       "    </tr>\n",
       "    <tr>\n",
       "      <th>31704</th>\n",
       "      <td>510005</td>\n",
       "      <td>Cattaraugus</td>\n",
       "      <td>NY</td>\n",
       "      <td>NaN</td>\n",
       "      <td>24</td>\n",
       "      <td>4</td>\n",
       "      <td>N</td>\n",
       "      <td>Y</td>\n",
       "      <td>N</td>\n",
       "      <td>N</td>\n",
       "      <td>15499.0</td>\n",
       "    </tr>\n",
       "    <tr>\n",
       "      <th>31705</th>\n",
       "      <td>510005</td>\n",
       "      <td>Cattaraugus</td>\n",
       "      <td>NY</td>\n",
       "      <td>NaN</td>\n",
       "      <td>24</td>\n",
       "      <td>4</td>\n",
       "      <td>N</td>\n",
       "      <td>Y</td>\n",
       "      <td>N</td>\n",
       "      <td>N</td>\n",
       "      <td>15499.0</td>\n",
       "    </tr>\n",
       "  </tbody>\n",
       "</table>\n",
       "<p>711 rows × 11 columns</p>\n",
       "</div>"
      ],
      "text/plain": [
       "       Station ID       County     Signing Municipality  Length  \\\n",
       "9502        60001     Richmond  Interstate          NaN     180   \n",
       "9503        60002     Richmond  Interstate          NaN      24   \n",
       "9504        60003     Richmond  Interstate          NaN      16   \n",
       "9505        60004     Richmond  Interstate          NaN      70   \n",
       "9506        60005     Richmond  Interstate          NaN     188   \n",
       "...           ...          ...         ...          ...     ...   \n",
       "10208       67001     Richmond       Local          NaN      32   \n",
       "10209       68000     Richmond       Local          NaN      67   \n",
       "31703      510005  Cattaraugus          NY          NaN      24   \n",
       "31704      510005  Cattaraugus          NY          NaN      24   \n",
       "31705      510005  Cattaraugus          NY          NaN      24   \n",
       "\n",
       "       Functional Class Ramp Bridge Railroad Crossing One Way     Count  \n",
       "9502                 11    N      Y                 N       N   85999.0  \n",
       "9503                 11    N      Y                 N       N  138424.0  \n",
       "9504                 11    N      Y                 N       N  140484.0  \n",
       "9505                 11    N      Y                 N       N  153026.0  \n",
       "9506                 11    N      Y                 N       N  158756.0  \n",
       "...                 ...  ...    ...               ...     ...       ...  \n",
       "10208                19    N      N                 Y       N   11463.0  \n",
       "10209                16    N      N                 N       N   13211.0  \n",
       "31703                 4    N      Y                 N       N   15499.0  \n",
       "31704                 4    N      Y                 N       N   15499.0  \n",
       "31705                 4    N      Y                 N       N   15499.0  \n",
       "\n",
       "[711 rows x 11 columns]"
      ]
     },
     "execution_count": 589,
     "metadata": {},
     "output_type": "execute_result"
    }
   ],
   "source": [
    "## looking at the entries which have municipality as null\n",
    "refined_data_2019[refined_data_2019['Municipality'].isnull()]"
   ]
  },
  {
   "cell_type": "code",
   "execution_count": 590,
   "metadata": {},
   "outputs": [
    {
     "data": {
      "text/plain": [
       "Richmond       708\n",
       "Cattaraugus      3\n",
       "Name: County, dtype: int64"
      ]
     },
     "execution_count": 590,
     "metadata": {},
     "output_type": "execute_result"
    }
   ],
   "source": [
    "refined_data_2019[refined_data_2019['Municipality'].isnull()]['County'].value_counts()"
   ]
  },
  {
   "cell_type": "markdown",
   "metadata": {},
   "source": [
    "---\n",
    "\n",
    "We can see that all of the null values correspond to only two counties. We can further analyse and impute the missing \n",
    "values efficiently.\n",
    "\n",
    "---"
   ]
  },
  {
   "cell_type": "code",
   "execution_count": 591,
   "metadata": {},
   "outputs": [
    {
     "data": {
      "text/plain": [
       "Richmond    708\n",
       "Name: County, dtype: int64"
      ]
     },
     "execution_count": 591,
     "metadata": {},
     "output_type": "execute_result"
    }
   ],
   "source": [
    "refined_data_2019[(refined_data_2019['County'] == 'Richmond') & (refined_data_2019['Municipality'].isnull())]['County'].value_counts()"
   ]
  },
  {
   "cell_type": "code",
   "execution_count": 592,
   "metadata": {},
   "outputs": [
    {
     "data": {
      "text/plain": [
       "Richmond    708\n",
       "Name: County, dtype: int64"
      ]
     },
     "execution_count": 592,
     "metadata": {},
     "output_type": "execute_result"
    }
   ],
   "source": [
    "refined_data_2019[refined_data_2019['County'] == 'Richmond']['County'].value_counts()"
   ]
  },
  {
   "cell_type": "markdown",
   "metadata": {},
   "source": [
    "---\n",
    "Every Municipality value of County 'Richmond' is null. So, we can assign all these entries with a unique municipality name\n",
    "\n",
    "---"
   ]
  },
  {
   "cell_type": "code",
   "execution_count": 593,
   "metadata": {},
   "outputs": [
    {
     "data": {
      "text/html": [
       "<div>\n",
       "<style scoped>\n",
       "    .dataframe tbody tr th:only-of-type {\n",
       "        vertical-align: middle;\n",
       "    }\n",
       "\n",
       "    .dataframe tbody tr th {\n",
       "        vertical-align: top;\n",
       "    }\n",
       "\n",
       "    .dataframe thead th {\n",
       "        text-align: right;\n",
       "    }\n",
       "</style>\n",
       "<table border=\"1\" class=\"dataframe\">\n",
       "  <thead>\n",
       "    <tr style=\"text-align: right;\">\n",
       "      <th></th>\n",
       "      <th>Station ID</th>\n",
       "      <th>County</th>\n",
       "      <th>Signing</th>\n",
       "      <th>Municipality</th>\n",
       "      <th>Length</th>\n",
       "      <th>Functional Class</th>\n",
       "      <th>Ramp</th>\n",
       "      <th>Bridge</th>\n",
       "      <th>Railroad Crossing</th>\n",
       "      <th>One Way</th>\n",
       "      <th>Count</th>\n",
       "    </tr>\n",
       "  </thead>\n",
       "  <tbody>\n",
       "    <tr>\n",
       "      <th>30203</th>\n",
       "      <td>440243</td>\n",
       "      <td>Ontario</td>\n",
       "      <td>US</td>\n",
       "      <td>Richmond</td>\n",
       "      <td>85</td>\n",
       "      <td>7</td>\n",
       "      <td>N</td>\n",
       "      <td>Y</td>\n",
       "      <td>N</td>\n",
       "      <td>N</td>\n",
       "      <td>5838.0</td>\n",
       "    </tr>\n",
       "    <tr>\n",
       "      <th>30221</th>\n",
       "      <td>440511</td>\n",
       "      <td>Ontario</td>\n",
       "      <td>US</td>\n",
       "      <td>Richmond</td>\n",
       "      <td>367</td>\n",
       "      <td>7</td>\n",
       "      <td>N</td>\n",
       "      <td>N</td>\n",
       "      <td>N</td>\n",
       "      <td>N</td>\n",
       "      <td>1837.0</td>\n",
       "    </tr>\n",
       "    <tr>\n",
       "      <th>30390</th>\n",
       "      <td>441262</td>\n",
       "      <td>Ontario</td>\n",
       "      <td>Local</td>\n",
       "      <td>Richmond</td>\n",
       "      <td>394</td>\n",
       "      <td>9</td>\n",
       "      <td>N</td>\n",
       "      <td>N</td>\n",
       "      <td>N</td>\n",
       "      <td>N</td>\n",
       "      <td>837.0</td>\n",
       "    </tr>\n",
       "    <tr>\n",
       "      <th>30490</th>\n",
       "      <td>442202</td>\n",
       "      <td>Ontario</td>\n",
       "      <td>Local</td>\n",
       "      <td>Richmond</td>\n",
       "      <td>116</td>\n",
       "      <td>9</td>\n",
       "      <td>N</td>\n",
       "      <td>N</td>\n",
       "      <td>N</td>\n",
       "      <td>N</td>\n",
       "      <td>155.0</td>\n",
       "    </tr>\n",
       "    <tr>\n",
       "      <th>30500</th>\n",
       "      <td>442212</td>\n",
       "      <td>Ontario</td>\n",
       "      <td>Local</td>\n",
       "      <td>Richmond</td>\n",
       "      <td>98</td>\n",
       "      <td>9</td>\n",
       "      <td>N</td>\n",
       "      <td>N</td>\n",
       "      <td>N</td>\n",
       "      <td>N</td>\n",
       "      <td>57.0</td>\n",
       "    </tr>\n",
       "  </tbody>\n",
       "</table>\n",
       "</div>"
      ],
      "text/plain": [
       "       Station ID   County Signing Municipality  Length  Functional Class  \\\n",
       "30203      440243  Ontario      US     Richmond      85                 7   \n",
       "30221      440511  Ontario      US     Richmond     367                 7   \n",
       "30390      441262  Ontario   Local     Richmond     394                 9   \n",
       "30490      442202  Ontario   Local     Richmond     116                 9   \n",
       "30500      442212  Ontario   Local     Richmond      98                 9   \n",
       "\n",
       "      Ramp Bridge Railroad Crossing One Way   Count  \n",
       "30203    N      Y                 N       N  5838.0  \n",
       "30221    N      N                 N       N  1837.0  \n",
       "30390    N      N                 N       N   837.0  \n",
       "30490    N      N                 N       N   155.0  \n",
       "30500    N      N                 N       N    57.0  "
      ]
     },
     "execution_count": 593,
     "metadata": {},
     "output_type": "execute_result"
    }
   ],
   "source": [
    "refined_data_2019[refined_data_2019['Municipality'] == 'Richmond'].head()"
   ]
  },
  {
   "cell_type": "markdown",
   "metadata": {},
   "source": [
    "And we can not assign the name Richmond to the municipality of the county Richmond as it already exist for another county. So, I am assigning a name which doesn't exist in the dataset (like 'Rich')"
   ]
  },
  {
   "cell_type": "code",
   "execution_count": 594,
   "metadata": {},
   "outputs": [],
   "source": [
    "refined_data_2019.loc[refined_data_2019.County == 'Richmond','Municipality'] = 'Rich'"
   ]
  },
  {
   "cell_type": "code",
   "execution_count": 667,
   "metadata": {},
   "outputs": [
    {
     "name": "stdout",
     "output_type": "stream",
     "text": [
      "Null values in the data :\n",
      " Station ID           0\n",
      "County               0\n",
      "Signing              0\n",
      "Municipality         0\n",
      "Length               0\n",
      "Functional Class     0\n",
      "Ramp                 0\n",
      "Bridge               0\n",
      "Railroad Crossing    0\n",
      "One Way              0\n",
      "Count                0\n",
      "dtype: int64\n"
     ]
    },
    {
     "data": {
      "text/plain": [
       "Series([], Name: County, dtype: int64)"
      ]
     },
     "execution_count": 667,
     "metadata": {},
     "output_type": "execute_result"
    }
   ],
   "source": [
    "print(\"Null values in the data :\\n\", refined_data_2019.isnull().sum())\n",
    "refined_data_2019[refined_data_2019['Municipality'].isnull()]['County'].value_counts()"
   ]
  },
  {
   "cell_type": "code",
   "execution_count": 596,
   "metadata": {},
   "outputs": [
    {
     "data": {
      "text/html": [
       "<div>\n",
       "<style scoped>\n",
       "    .dataframe tbody tr th:only-of-type {\n",
       "        vertical-align: middle;\n",
       "    }\n",
       "\n",
       "    .dataframe tbody tr th {\n",
       "        vertical-align: top;\n",
       "    }\n",
       "\n",
       "    .dataframe thead th {\n",
       "        text-align: right;\n",
       "    }\n",
       "</style>\n",
       "<table border=\"1\" class=\"dataframe\">\n",
       "  <thead>\n",
       "    <tr style=\"text-align: right;\">\n",
       "      <th></th>\n",
       "      <th>Station ID</th>\n",
       "      <th>County</th>\n",
       "      <th>Signing</th>\n",
       "      <th>Municipality</th>\n",
       "      <th>Length</th>\n",
       "      <th>Functional Class</th>\n",
       "      <th>Ramp</th>\n",
       "      <th>Bridge</th>\n",
       "      <th>Railroad Crossing</th>\n",
       "      <th>One Way</th>\n",
       "      <th>Count</th>\n",
       "    </tr>\n",
       "  </thead>\n",
       "  <tbody>\n",
       "    <tr>\n",
       "      <th>31703</th>\n",
       "      <td>510005</td>\n",
       "      <td>Cattaraugus</td>\n",
       "      <td>NY</td>\n",
       "      <td>NaN</td>\n",
       "      <td>24</td>\n",
       "      <td>4</td>\n",
       "      <td>N</td>\n",
       "      <td>Y</td>\n",
       "      <td>N</td>\n",
       "      <td>N</td>\n",
       "      <td>15499.0</td>\n",
       "    </tr>\n",
       "    <tr>\n",
       "      <th>31704</th>\n",
       "      <td>510005</td>\n",
       "      <td>Cattaraugus</td>\n",
       "      <td>NY</td>\n",
       "      <td>NaN</td>\n",
       "      <td>24</td>\n",
       "      <td>4</td>\n",
       "      <td>N</td>\n",
       "      <td>Y</td>\n",
       "      <td>N</td>\n",
       "      <td>N</td>\n",
       "      <td>15499.0</td>\n",
       "    </tr>\n",
       "    <tr>\n",
       "      <th>31705</th>\n",
       "      <td>510005</td>\n",
       "      <td>Cattaraugus</td>\n",
       "      <td>NY</td>\n",
       "      <td>NaN</td>\n",
       "      <td>24</td>\n",
       "      <td>4</td>\n",
       "      <td>N</td>\n",
       "      <td>Y</td>\n",
       "      <td>N</td>\n",
       "      <td>N</td>\n",
       "      <td>15499.0</td>\n",
       "    </tr>\n",
       "  </tbody>\n",
       "</table>\n",
       "</div>"
      ],
      "text/plain": [
       "       Station ID       County Signing Municipality  Length  Functional Class  \\\n",
       "31703      510005  Cattaraugus      NY          NaN      24                 4   \n",
       "31704      510005  Cattaraugus      NY          NaN      24                 4   \n",
       "31705      510005  Cattaraugus      NY          NaN      24                 4   \n",
       "\n",
       "      Ramp Bridge Railroad Crossing One Way    Count  \n",
       "31703    N      Y                 N       N  15499.0  \n",
       "31704    N      Y                 N       N  15499.0  \n",
       "31705    N      Y                 N       N  15499.0  "
      ]
     },
     "execution_count": 596,
     "metadata": {},
     "output_type": "execute_result"
    }
   ],
   "source": [
    "refined_data_2019[refined_data_2019['Municipality'].isnull()]"
   ]
  },
  {
   "cell_type": "markdown",
   "metadata": {},
   "source": [
    "---\n",
    "These 3 rows with missing values can be ignored but here we can observe an intrested detail in the obtained missing values rows: all three entries have same values for every column in the missing data.\n",
    "So, by searching for other rows with similar data in it. We can impute the missing values in it.\n",
    "\n",
    "---"
   ]
  },
  {
   "cell_type": "code",
   "execution_count": 597,
   "metadata": {},
   "outputs": [
    {
     "data": {
      "text/html": [
       "<div>\n",
       "<style scoped>\n",
       "    .dataframe tbody tr th:only-of-type {\n",
       "        vertical-align: middle;\n",
       "    }\n",
       "\n",
       "    .dataframe tbody tr th {\n",
       "        vertical-align: top;\n",
       "    }\n",
       "\n",
       "    .dataframe thead th {\n",
       "        text-align: right;\n",
       "    }\n",
       "</style>\n",
       "<table border=\"1\" class=\"dataframe\">\n",
       "  <thead>\n",
       "    <tr style=\"text-align: right;\">\n",
       "      <th></th>\n",
       "      <th>Station ID</th>\n",
       "      <th>County</th>\n",
       "      <th>Signing</th>\n",
       "      <th>Municipality</th>\n",
       "      <th>Length</th>\n",
       "      <th>Functional Class</th>\n",
       "      <th>Ramp</th>\n",
       "      <th>Bridge</th>\n",
       "      <th>Railroad Crossing</th>\n",
       "      <th>One Way</th>\n",
       "      <th>Count</th>\n",
       "    </tr>\n",
       "  </thead>\n",
       "  <tbody>\n",
       "    <tr>\n",
       "      <th>31703</th>\n",
       "      <td>510005</td>\n",
       "      <td>Cattaraugus</td>\n",
       "      <td>NY</td>\n",
       "      <td>NaN</td>\n",
       "      <td>24</td>\n",
       "      <td>4</td>\n",
       "      <td>N</td>\n",
       "      <td>Y</td>\n",
       "      <td>N</td>\n",
       "      <td>N</td>\n",
       "      <td>15499.0</td>\n",
       "    </tr>\n",
       "    <tr>\n",
       "      <th>31704</th>\n",
       "      <td>510005</td>\n",
       "      <td>Cattaraugus</td>\n",
       "      <td>NY</td>\n",
       "      <td>NaN</td>\n",
       "      <td>24</td>\n",
       "      <td>4</td>\n",
       "      <td>N</td>\n",
       "      <td>Y</td>\n",
       "      <td>N</td>\n",
       "      <td>N</td>\n",
       "      <td>15499.0</td>\n",
       "    </tr>\n",
       "    <tr>\n",
       "      <th>31705</th>\n",
       "      <td>510005</td>\n",
       "      <td>Cattaraugus</td>\n",
       "      <td>NY</td>\n",
       "      <td>NaN</td>\n",
       "      <td>24</td>\n",
       "      <td>4</td>\n",
       "      <td>N</td>\n",
       "      <td>Y</td>\n",
       "      <td>N</td>\n",
       "      <td>N</td>\n",
       "      <td>15499.0</td>\n",
       "    </tr>\n",
       "    <tr>\n",
       "      <th>31706</th>\n",
       "      <td>510005</td>\n",
       "      <td>Cattaraugus</td>\n",
       "      <td>NY</td>\n",
       "      <td>Yorkshire</td>\n",
       "      <td>24</td>\n",
       "      <td>4</td>\n",
       "      <td>N</td>\n",
       "      <td>Y</td>\n",
       "      <td>N</td>\n",
       "      <td>N</td>\n",
       "      <td>15499.0</td>\n",
       "    </tr>\n",
       "  </tbody>\n",
       "</table>\n",
       "</div>"
      ],
      "text/plain": [
       "       Station ID       County Signing Municipality  Length  Functional Class  \\\n",
       "31703      510005  Cattaraugus      NY          NaN      24                 4   \n",
       "31704      510005  Cattaraugus      NY          NaN      24                 4   \n",
       "31705      510005  Cattaraugus      NY          NaN      24                 4   \n",
       "31706      510005  Cattaraugus      NY    Yorkshire      24                 4   \n",
       "\n",
       "      Ramp Bridge Railroad Crossing One Way    Count  \n",
       "31703    N      Y                 N       N  15499.0  \n",
       "31704    N      Y                 N       N  15499.0  \n",
       "31705    N      Y                 N       N  15499.0  \n",
       "31706    N      Y                 N       N  15499.0  "
      ]
     },
     "execution_count": 597,
     "metadata": {},
     "output_type": "execute_result"
    }
   ],
   "source": [
    "refined_data_2019[(refined_data_2019['County'] == 'Cattaraugus') & (refined_data_2019['Signing'] == 'NY') & (refined_data_2019['Station ID'] == 510005)]"
   ]
  },
  {
   "cell_type": "markdown",
   "metadata": {},
   "source": [
    "---\n",
    "Missing value is 'Yorkshire'.\n",
    "\n",
    "---"
   ]
  },
  {
   "cell_type": "code",
   "execution_count": 598,
   "metadata": {},
   "outputs": [],
   "source": [
    "refined_data_2019['Municipality'].fillna('Yorkshire', inplace = True)"
   ]
  },
  {
   "cell_type": "code",
   "execution_count": 599,
   "metadata": {},
   "outputs": [
    {
     "data": {
      "text/plain": [
       "Station ID           0\n",
       "County               0\n",
       "Signing              0\n",
       "Municipality         0\n",
       "Length               0\n",
       "Functional Class     0\n",
       "Ramp                 0\n",
       "Bridge               0\n",
       "Railroad Crossing    0\n",
       "One Way              0\n",
       "Count                0\n",
       "dtype: int64"
      ]
     },
     "execution_count": 599,
     "metadata": {},
     "output_type": "execute_result"
    }
   ],
   "source": [
    "refined_data_2019.isnull().sum()"
   ]
  },
  {
   "cell_type": "markdown",
   "metadata": {},
   "source": [
    "---\n",
    "\n",
    "Data has been cleaned and missing variables are filled.\n",
    "\n",
    "---"
   ]
  },
  {
   "cell_type": "markdown",
   "metadata": {},
   "source": [
    "## Splitting the data into test and train"
   ]
  },
  {
   "cell_type": "code",
   "execution_count": 486,
   "metadata": {},
   "outputs": [
    {
     "data": {
      "text/plain": [
       "Niagara Falls    3657\n",
       "Queens           2211\n",
       "Brooklyn         1593\n",
       "Hempstead        1096\n",
       "Bronx            1094\n",
       "                 ... \n",
       "Centre Island       1\n",
       "New Square          1\n",
       "Brushton            1\n",
       "Cold Brook          1\n",
       "Clayville           1\n",
       "Name: Municipality, Length: 1284, dtype: int64"
      ]
     },
     "execution_count": 486,
     "metadata": {},
     "output_type": "execute_result"
    }
   ],
   "source": [
    "refined_data_2019['Municipality'].value_counts()"
   ]
  },
  {
   "cell_type": "code",
   "execution_count": 487,
   "metadata": {},
   "outputs": [
    {
     "data": {
      "text/plain": [
       "Index(['Bovina', 'Painted Post', 'Alma', 'Laurel Hollow', 'Head of the Harbor',\n",
       "       'German', 'Thurman', 'Montague', 'Northville', 'Genesee Falls',\n",
       "       ...\n",
       "       'Grand View-on-Hudson', 'Deferiet', 'Belle Terre', 'Middleville',\n",
       "       'Delanson', 'Centre Island', 'New Square', 'Brushton', 'Cold Brook',\n",
       "       'Clayville'],\n",
       "      dtype='object', length=265)"
      ]
     },
     "execution_count": 487,
     "metadata": {},
     "output_type": "execute_result"
    }
   ],
   "source": [
    "index = refined_data_2019['Municipality'].value_counts()[refined_data_2019['Municipality'].value_counts() < 10].index\n",
    "index"
   ]
  },
  {
   "cell_type": "markdown",
   "metadata": {},
   "source": [
    "We can see that there are 651 unique values in 'Municipality' which have less than 20 individual entries. Splitting this will result in test data which is unreachable to the predictions of the trained model as the model which was trained will have no information about many of the labels in 'Municipality' column. \n",
    "So, to handle this case the entries with lesser unique values must be provided to training data rather than splitting."
   ]
  },
  {
   "cell_type": "code",
   "execution_count": 488,
   "metadata": {},
   "outputs": [
    {
     "data": {
      "text/html": [
       "<div>\n",
       "<style scoped>\n",
       "    .dataframe tbody tr th:only-of-type {\n",
       "        vertical-align: middle;\n",
       "    }\n",
       "\n",
       "    .dataframe tbody tr th {\n",
       "        vertical-align: top;\n",
       "    }\n",
       "\n",
       "    .dataframe thead th {\n",
       "        text-align: right;\n",
       "    }\n",
       "</style>\n",
       "<table border=\"1\" class=\"dataframe\">\n",
       "  <thead>\n",
       "    <tr style=\"text-align: right;\">\n",
       "      <th></th>\n",
       "      <th>Station ID</th>\n",
       "      <th>County</th>\n",
       "      <th>Signing</th>\n",
       "      <th>Municipality</th>\n",
       "      <th>Length</th>\n",
       "      <th>Functional Class</th>\n",
       "      <th>Ramp</th>\n",
       "      <th>Bridge</th>\n",
       "      <th>Railroad Crossing</th>\n",
       "      <th>One Way</th>\n",
       "      <th>Count</th>\n",
       "    </tr>\n",
       "  </thead>\n",
       "  <tbody>\n",
       "    <tr>\n",
       "      <th>2741</th>\n",
       "      <td>30059</td>\n",
       "      <td>Nassau</td>\n",
       "      <td>NY</td>\n",
       "      <td>Oyster Bay Cove</td>\n",
       "      <td>171</td>\n",
       "      <td>14</td>\n",
       "      <td>N</td>\n",
       "      <td>N</td>\n",
       "      <td>N</td>\n",
       "      <td>N</td>\n",
       "      <td>17312.0</td>\n",
       "    </tr>\n",
       "    <tr>\n",
       "      <th>2744</th>\n",
       "      <td>30069</td>\n",
       "      <td>Nassau</td>\n",
       "      <td>NY</td>\n",
       "      <td>Bellerose</td>\n",
       "      <td>72</td>\n",
       "      <td>14</td>\n",
       "      <td>N</td>\n",
       "      <td>N</td>\n",
       "      <td>N</td>\n",
       "      <td>N</td>\n",
       "      <td>38230.0</td>\n",
       "    </tr>\n",
       "    <tr>\n",
       "      <th>2789</th>\n",
       "      <td>30225</td>\n",
       "      <td>Nassau</td>\n",
       "      <td>NY</td>\n",
       "      <td>Russell Gardens</td>\n",
       "      <td>88</td>\n",
       "      <td>14</td>\n",
       "      <td>N</td>\n",
       "      <td>N</td>\n",
       "      <td>N</td>\n",
       "      <td>N</td>\n",
       "      <td>26263.0</td>\n",
       "    </tr>\n",
       "    <tr>\n",
       "      <th>2797</th>\n",
       "      <td>30235</td>\n",
       "      <td>Nassau</td>\n",
       "      <td>NY</td>\n",
       "      <td>Oyster Bay Cove</td>\n",
       "      <td>148</td>\n",
       "      <td>14</td>\n",
       "      <td>N</td>\n",
       "      <td>N</td>\n",
       "      <td>N</td>\n",
       "      <td>N</td>\n",
       "      <td>17744.0</td>\n",
       "    </tr>\n",
       "    <tr>\n",
       "      <th>2798</th>\n",
       "      <td>30238</td>\n",
       "      <td>Nassau</td>\n",
       "      <td>NY</td>\n",
       "      <td>Laurel Hollow</td>\n",
       "      <td>78</td>\n",
       "      <td>14</td>\n",
       "      <td>N</td>\n",
       "      <td>Y</td>\n",
       "      <td>N</td>\n",
       "      <td>N</td>\n",
       "      <td>19662.0</td>\n",
       "    </tr>\n",
       "    <tr>\n",
       "      <th>...</th>\n",
       "      <td>...</td>\n",
       "      <td>...</td>\n",
       "      <td>...</td>\n",
       "      <td>...</td>\n",
       "      <td>...</td>\n",
       "      <td>...</td>\n",
       "      <td>...</td>\n",
       "      <td>...</td>\n",
       "      <td>...</td>\n",
       "      <td>...</td>\n",
       "      <td>...</td>\n",
       "    </tr>\n",
       "    <tr>\n",
       "      <th>60243</th>\n",
       "      <td>976604</td>\n",
       "      <td>Tioga</td>\n",
       "      <td>Local</td>\n",
       "      <td>Richford</td>\n",
       "      <td>396</td>\n",
       "      <td>7</td>\n",
       "      <td>N</td>\n",
       "      <td>Y</td>\n",
       "      <td>N</td>\n",
       "      <td>N</td>\n",
       "      <td>513.0</td>\n",
       "    </tr>\n",
       "    <tr>\n",
       "      <th>60287</th>\n",
       "      <td>977253</td>\n",
       "      <td>Tioga</td>\n",
       "      <td>Local</td>\n",
       "      <td>Richford</td>\n",
       "      <td>34</td>\n",
       "      <td>9</td>\n",
       "      <td>N</td>\n",
       "      <td>N</td>\n",
       "      <td>Y</td>\n",
       "      <td>N</td>\n",
       "      <td>45.0</td>\n",
       "    </tr>\n",
       "    <tr>\n",
       "      <th>60288</th>\n",
       "      <td>977259</td>\n",
       "      <td>Tioga</td>\n",
       "      <td>Local</td>\n",
       "      <td>Richford</td>\n",
       "      <td>3</td>\n",
       "      <td>9</td>\n",
       "      <td>N</td>\n",
       "      <td>N</td>\n",
       "      <td>N</td>\n",
       "      <td>N</td>\n",
       "      <td>111.0</td>\n",
       "    </tr>\n",
       "    <tr>\n",
       "      <th>60294</th>\n",
       "      <td>978010</td>\n",
       "      <td>Tioga</td>\n",
       "      <td>Local</td>\n",
       "      <td>Berkshire</td>\n",
       "      <td>215</td>\n",
       "      <td>8</td>\n",
       "      <td>N</td>\n",
       "      <td>N</td>\n",
       "      <td>N</td>\n",
       "      <td>N</td>\n",
       "      <td>554.0</td>\n",
       "    </tr>\n",
       "    <tr>\n",
       "      <th>60309</th>\n",
       "      <td>978027</td>\n",
       "      <td>Tioga</td>\n",
       "      <td>Local</td>\n",
       "      <td>Richford</td>\n",
       "      <td>102</td>\n",
       "      <td>9</td>\n",
       "      <td>N</td>\n",
       "      <td>N</td>\n",
       "      <td>N</td>\n",
       "      <td>N</td>\n",
       "      <td>545.0</td>\n",
       "    </tr>\n",
       "  </tbody>\n",
       "</table>\n",
       "<p>1500 rows × 11 columns</p>\n",
       "</div>"
      ],
      "text/plain": [
       "       Station ID  County Signing     Municipality  Length  Functional Class  \\\n",
       "2741        30059  Nassau      NY  Oyster Bay Cove     171                14   \n",
       "2744        30069  Nassau      NY        Bellerose      72                14   \n",
       "2789        30225  Nassau      NY  Russell Gardens      88                14   \n",
       "2797        30235  Nassau      NY  Oyster Bay Cove     148                14   \n",
       "2798        30238  Nassau      NY    Laurel Hollow      78                14   \n",
       "...           ...     ...     ...              ...     ...               ...   \n",
       "60243      976604   Tioga   Local         Richford     396                 7   \n",
       "60287      977253   Tioga   Local         Richford      34                 9   \n",
       "60288      977259   Tioga   Local         Richford       3                 9   \n",
       "60294      978010   Tioga   Local        Berkshire     215                 8   \n",
       "60309      978027   Tioga   Local         Richford     102                 9   \n",
       "\n",
       "      Ramp Bridge Railroad Crossing One Way    Count  \n",
       "2741     N      N                 N       N  17312.0  \n",
       "2744     N      N                 N       N  38230.0  \n",
       "2789     N      N                 N       N  26263.0  \n",
       "2797     N      N                 N       N  17744.0  \n",
       "2798     N      Y                 N       N  19662.0  \n",
       "...    ...    ...               ...     ...      ...  \n",
       "60243    N      Y                 N       N    513.0  \n",
       "60287    N      N                 Y       N     45.0  \n",
       "60288    N      N                 N       N    111.0  \n",
       "60294    N      N                 N       N    554.0  \n",
       "60309    N      N                 N       N    545.0  \n",
       "\n",
       "[1500 rows x 11 columns]"
      ]
     },
     "execution_count": 488,
     "metadata": {},
     "output_type": "execute_result"
    }
   ],
   "source": [
    "refined_data_2019[refined_data_2019['Municipality'].isin(index)]"
   ]
  },
  {
   "cell_type": "code",
   "execution_count": 502,
   "metadata": {},
   "outputs": [],
   "source": [
    "biased_data = refined_data_2019[refined_data_2019['Municipality'].isin(index)]"
   ]
  },
  {
   "cell_type": "code",
   "execution_count": 503,
   "metadata": {},
   "outputs": [],
   "source": [
    "to_be_split = refined_data_2019[~refined_data_2019['Municipality'].isin(index)]"
   ]
  },
  {
   "cell_type": "code",
   "execution_count": 504,
   "metadata": {},
   "outputs": [],
   "source": [
    "X = to_be_split.drop(columns=['Count'])\n",
    "Y = to_be_split['Count']"
   ]
  },
  {
   "cell_type": "code",
   "execution_count": 505,
   "metadata": {},
   "outputs": [],
   "source": [
    "biased_data_x = biased_data.drop(columns=['Count'])\n",
    "biased_data_y = biased_data['Count']"
   ]
  },
  {
   "cell_type": "code",
   "execution_count": 506,
   "metadata": {},
   "outputs": [],
   "source": [
    "X_train, X_test, y_train, y_test = train_test_split(X, Y, train_size = 0.82, random_state=1)"
   ]
  },
  {
   "cell_type": "code",
   "execution_count": 507,
   "metadata": {},
   "outputs": [
    {
     "name": "stdout",
     "output_type": "stream",
     "text": [
      "(48232, 10)\n",
      "(10588, 10)\n",
      "(48232,)\n",
      "(10588,)\n"
     ]
    }
   ],
   "source": [
    "print(X_train.shape)\n",
    "print(X_test.shape)\n",
    "print(y_train.shape)\n",
    "print(y_test.shape)"
   ]
  },
  {
   "cell_type": "code",
   "execution_count": 510,
   "metadata": {},
   "outputs": [
    {
     "name": "stdout",
     "output_type": "stream",
     "text": [
      "<class 'pandas.core.frame.DataFrame'>\n",
      "Int64Index: 48232 entries, 49290 to 33910\n",
      "Data columns (total 10 columns):\n",
      "Station ID           48232 non-null int64\n",
      "County               48232 non-null object\n",
      "Signing              48232 non-null object\n",
      "Municipality         48232 non-null object\n",
      "Length               48232 non-null int64\n",
      "Functional Class     48232 non-null int64\n",
      "Ramp                 48232 non-null object\n",
      "Bridge               48232 non-null object\n",
      "Railroad Crossing    48232 non-null object\n",
      "One Way              48232 non-null object\n",
      "dtypes: int64(3), object(7)\n",
      "memory usage: 4.0+ MB\n"
     ]
    }
   ],
   "source": [
    "X_train.info()"
   ]
  },
  {
   "cell_type": "code",
   "execution_count": 511,
   "metadata": {},
   "outputs": [],
   "source": [
    "le = LabelEncoder()\n",
    "biased_data_x.loc[:,'Municipality'] = le.fit_transform(biased_data_x.loc[:,'Municipality'])"
   ]
  },
  {
   "cell_type": "code",
   "execution_count": 512,
   "metadata": {},
   "outputs": [
    {
     "data": {
      "text/plain": [
       "N    1476\n",
       "Y      24\n",
       "Name: One Way, dtype: int64"
      ]
     },
     "execution_count": 512,
     "metadata": {},
     "output_type": "execute_result"
    }
   ],
   "source": [
    "# biased_data_x[biased_data_x['County'] == 'Hamilton']\n",
    "biased_data_x['One Way'].value_counts()"
   ]
  },
  {
   "cell_type": "code",
   "execution_count": 513,
   "metadata": {},
   "outputs": [],
   "source": [
    "   \n",
    "le = LabelEncoder()\n",
    "le.fit(X_train.loc[:,'County'])\n",
    "X_train.loc[:,'County'] = le.transform(X_train.loc[:,'County'])\n",
    "biased_data_x.loc[:,'County'] = le.transform(biased_data_x.loc[:,'County'])\n",
    "X_test.loc[:,'County'] = le.transform(X_test.loc[:,'County'])\n",
    "\n",
    "le = LabelEncoder()\n",
    "le.fit(X_train.loc[:,'Signing'])\n",
    "X_train.loc[:,'Signing'] = le.transform(X_train.loc[:,'Signing'])\n",
    "biased_data_x.loc[:,'Signing'] = le.transform(biased_data_x.loc[:,'Signing'])\n",
    "X_test.loc[:,'Signing'] = le.transform(X_test.loc[:,'Signing'])\n",
    "\n",
    "le = LabelEncoder()\n",
    "le.fit(X_train.loc[:,'Municipality'])\n",
    "X_train.loc[:,'Municipality'] = le.transform(X_train.loc[:,'Municipality'])\n",
    "# biased_data_x.loc[:,'Municipality'] = le.transform(biased_data_x.loc[:,'Municipality'])\n",
    "X_test.loc[:,'Municipality'] = le.transform(X_test.loc[:,'Municipality'])\n",
    "\n",
    "le = LabelEncoder()\n",
    "le.fit(X_train.loc[:,'Ramp'])\n",
    "X_train.loc[:,'Ramp'] = le.transform(X_train.loc[:,'Ramp'])\n",
    "biased_data_x.loc[:,'Ramp'] = le.transform(biased_data_x.loc[:,'Ramp'])\n",
    "X_test.loc[:,'Ramp'] = le.transform(X_test.loc[:,'Ramp'])\n",
    "\n",
    "le = LabelEncoder()\n",
    "le.fit(X_train.loc[:,'Bridge'])\n",
    "X_train.loc[:,'Bridge'] = le.transform(X_train.loc[:,'Bridge'])\n",
    "biased_data_x.loc[:,'Bridge'] = le.transform(biased_data_x.loc[:,'Bridge'])\n",
    "X_test.loc[:,'Bridge'] = le.transform(X_test.loc[:,'Bridge'])\n",
    "\n",
    "le = LabelEncoder()\n",
    "le.fit(X_train.loc[:,'Railroad Crossing'])\n",
    "X_train.loc[:,'Railroad Crossing'] = le.transform(X_train.loc[:,'Railroad Crossing'])\n",
    "biased_data_x.loc[:,'Railroad Crossing'] = le.transform(biased_data_x.loc[:,'Railroad Crossing'])\n",
    "X_test.loc[:,'Railroad Crossing'] = le.transform(X_test.loc[:,'Railroad Crossing'])\n",
    "\n",
    "le = LabelEncoder()\n",
    "le.fit(X_train.loc[:,'One Way'])\n",
    "X_train.loc[:,'One Way'] = le.transform(X_train.loc[:,'One Way'])\n",
    "biased_data_x.loc[:,'One Way'] = le.transform(biased_data_x.loc[:,'One Way'])\n",
    "X_test.loc[:,'One Way'] = le.transform(X_test.loc[:,'One Way'])"
   ]
  },
  {
   "cell_type": "code",
   "execution_count": 515,
   "metadata": {},
   "outputs": [
    {
     "data": {
      "text/plain": [
       "0    44115\n",
       "1     4117\n",
       "Name: Ramp, dtype: int64"
      ]
     },
     "execution_count": 515,
     "metadata": {},
     "output_type": "execute_result"
    }
   ],
   "source": [
    "X_train['Ramp'].value_counts()"
   ]
  },
  {
   "cell_type": "code",
   "execution_count": 516,
   "metadata": {},
   "outputs": [],
   "source": [
    "X_train = X_train.append(biased_data_x,ignore_index = True)\n",
    "y_train = y_train.append(biased_data_y,ignore_index = True)"
   ]
  },
  {
   "cell_type": "code",
   "execution_count": 517,
   "metadata": {},
   "outputs": [
    {
     "name": "stdout",
     "output_type": "stream",
     "text": [
      "(49732, 10)\n",
      "(10588, 10)\n",
      "(49732,)\n",
      "(10588,)\n"
     ]
    }
   ],
   "source": [
    "print(X_train.shape)\n",
    "print(X_test.shape)\n",
    "print(y_train.shape)\n",
    "print(y_test.shape)"
   ]
  },
  {
   "cell_type": "markdown",
   "metadata": {},
   "source": [
    "# 3. Applying Machine Learning algorithms to model the target variable: "
   ]
  },
  {
   "cell_type": "code",
   "execution_count": 520,
   "metadata": {},
   "outputs": [],
   "source": [
    "# Normalizing the data\n",
    "from sklearn.preprocessing import StandardScaler\n",
    "scx = StandardScaler()\n",
    "X_train = scx.fit_transform(X_train)\n",
    "X_test = scx.transform(X_test)"
   ]
  },
  {
   "cell_type": "code",
   "execution_count": 521,
   "metadata": {},
   "outputs": [
    {
     "name": "stdout",
     "output_type": "stream",
     "text": [
      "Linear Regression Score: 0.0594067461044947\n"
     ]
    }
   ],
   "source": [
    "from sklearn.linear_model import LinearRegression\n",
    "\n",
    "# Linear Regressionn\n",
    "clf = LinearRegression()\n",
    "clf.fit(X_train, y_train)\n",
    "linear_regression_score = clf.score(X_test, y_test)\n",
    "print(\"Linear Regression Score:\", linear_regression_score)"
   ]
  },
  {
   "cell_type": "code",
   "execution_count": 523,
   "metadata": {},
   "outputs": [
    {
     "name": "stdout",
     "output_type": "stream",
     "text": [
      "Decision Tree Regressor Score: 0.7028469486341286\n"
     ]
    }
   ],
   "source": [
    "# Decision Tree Regressor\n",
    "clf = DecisionTreeRegressor()\n",
    "clf.fit(X_train, y_train)\n",
    "decision_tree_regressor_score = clf.score(X_test, y_test)\n",
    "print('Decision Tree Regressor Score:', decision_tree_regressor_score)"
   ]
  },
  {
   "cell_type": "code",
   "execution_count": 525,
   "metadata": {},
   "outputs": [
    {
     "name": "stdout",
     "output_type": "stream",
     "text": [
      "Elastic-Net Score: 0.04734379934489286\n"
     ]
    }
   ],
   "source": [
    "# Elastic-Net\n",
    "clf = ElasticNet()\n",
    "clf.fit(X_train, y_train)\n",
    "elastic_net_score = clf.score(X_test, y_test)\n",
    "print('Elastic-Net Score:', elastic_net_score)"
   ]
  },
  {
   "cell_type": "code",
   "execution_count": 546,
   "metadata": {},
   "outputs": [
    {
     "name": "stdout",
     "output_type": "stream",
     "text": [
      "SVR Score: -0.06974438319614018\n"
     ]
    }
   ],
   "source": [
    "# Support Vector Regression\n",
    "clf = svm.SVR()\n",
    "clf.fit(X_train, np.asarray(y_train).ravel())\n",
    "svr_score = clf.score(X_test, y_test)\n",
    "print(\"SVR Score:\", svr_score)"
   ]
  },
  {
   "cell_type": "code",
   "execution_count": 526,
   "metadata": {},
   "outputs": [
    {
     "name": "stdout",
     "output_type": "stream",
     "text": [
      "SGD Regressor Score: 0.05609691190417143\n"
     ]
    }
   ],
   "source": [
    "# SGD Regressor\n",
    "clf = SGDRegressor()\n",
    "clf.fit(X_train, np.asarray(y_train).ravel())\n",
    "sgd_regressor_score = clf.score(X_test, (y_test))\n",
    "print('SGD Regressor Score:', sgd_regressor_score)"
   ]
  },
  {
   "cell_type": "code",
   "execution_count": 544,
   "metadata": {},
   "outputs": [
    {
     "name": "stdout",
     "output_type": "stream",
     "text": [
      "MLP Regressor Score: 0.534288948382237\n"
     ]
    },
    {
     "name": "stderr",
     "output_type": "stream",
     "text": [
      "/Users/rohithposhala/anaconda3/lib/python3.7/site-packages/sklearn/neural_network/multilayer_perceptron.py:566: ConvergenceWarning: Stochastic Optimizer: Maximum iterations (1000) reached and the optimization hasn't converged yet.\n",
      "  % self.max_iter, ConvergenceWarning)\n"
     ]
    }
   ],
   "source": [
    "# MLP Regressor\n",
    "clf = MLPRegressor(max_iter=1000)\n",
    "clf.fit(X_train, np.asarray(y_train).ravel())\n",
    "mlp_regressor_score = clf.score(X_test, y_test)\n",
    "print('MLP Regressor Score:', mlp_regressor_score)"
   ]
  },
  {
   "cell_type": "code",
   "execution_count": 542,
   "metadata": {},
   "outputs": [
    {
     "name": "stderr",
     "output_type": "stream",
     "text": [
      "/Users/rohithposhala/anaconda3/lib/python3.7/site-packages/sklearn/ensemble/forest.py:245: FutureWarning: The default value of n_estimators will change from 10 in version 0.20 to 100 in 0.22.\n",
      "  \"10 in version 0.20 to 100 in 0.22.\", FutureWarning)\n"
     ]
    },
    {
     "name": "stdout",
     "output_type": "stream",
     "text": [
      "Random Forest Classifier score: 0.1781261805817907\n"
     ]
    }
   ],
   "source": [
    "# RandomForestClassifier\n",
    "from sklearn.ensemble import RandomForestClassifier\n",
    "clf = RandomForestClassifier(max_depth=20, random_state=0)\n",
    "clf.fit(X_train, y_train)\n",
    "\n",
    "RandomForestClassifier_score = clf.score(X_test, y_test)\n",
    "print('Random Forest Classifier score:', RandomForestClassifier_score)"
   ]
  },
  {
   "cell_type": "markdown",
   "metadata": {},
   "source": [
    "# 4. Comparison of results from each Machine Learning model"
   ]
  },
  {
   "cell_type": "code",
   "execution_count": 668,
   "metadata": {},
   "outputs": [
    {
     "data": {
      "image/png": "[encoded data removed]",
      "text/plain": [
       "<Figure size 1080x864 with 1 Axes>"
      ]
     },
     "metadata": {
      "needs_background": "light"
     },
     "output_type": "display_data"
    }
   ],
   "source": [
    "# Representing the accuracy of various models on a graph\n",
    "objects = ('Linear Regression', 'SVR', 'Decision Tree Regressor', 'Elastic-Net', 'SGD Regressor', 'MLP Regressor', 'Random Forest Classifier')\n",
    "scores = [linear_regression_score, svr_score, decision_tree_regressor_score, elastic_net_score, sgd_regressor_score, mlp_regressor_score, RandomForestClassifier_score]\n",
    "plt.figure(figsize=(15, 12))\n",
    "plt.bar(objects, scores, align='center', alpha=0.5)\n",
    "plt.xticks(objects)\n",
    "plt.ylabel('Accuracy')\n",
    "plt.title('Accuracy of Different Models')\n",
    "plt.show()"
   ]
  },
  {
   "cell_type": "markdown",
   "metadata": {},
   "source": [
    "---\n",
    "\n",
    "We can observe that Decision Tree Regressor works very efficiently in predicting the traffic counts for the test data compared to remaining models.\n",
    "And even MLP Regression does a decent job in predicting counts of test data with increase in number of iterations.\n",
    "\n",
    "The type of data we trained is a hybrid data with both continuous and categorical variables. But now it is apparent that categorical variables like Ramp, Bridge, Railroad Crossing, One way and Signing in the data plays a crucial role than continuous variables like length. "
   ]
  },
  {
   "cell_type": "markdown",
   "metadata": {},
   "source": [
    "# Part 3:"
   ]
  },
  {
   "cell_type": "markdown",
   "metadata": {},
   "source": [
    "## Loading related dataset (population dataset which is related to traffic volumes dataset)"
   ]
  },
  {
   "cell_type": "code",
   "execution_count": 600,
   "metadata": {},
   "outputs": [
    {
     "data": {
      "text/html": [
       "<div>\n",
       "<style scoped>\n",
       "    .dataframe tbody tr th:only-of-type {\n",
       "        vertical-align: middle;\n",
       "    }\n",
       "\n",
       "    .dataframe tbody tr th {\n",
       "        vertical-align: top;\n",
       "    }\n",
       "\n",
       "    .dataframe thead th {\n",
       "        text-align: right;\n",
       "    }\n",
       "</style>\n",
       "<table border=\"1\" class=\"dataframe\">\n",
       "  <thead>\n",
       "    <tr style=\"text-align: right;\">\n",
       "      <th></th>\n",
       "      <th>FIPS Code</th>\n",
       "      <th>Geography</th>\n",
       "      <th>Year</th>\n",
       "      <th>Program Type</th>\n",
       "      <th>Population</th>\n",
       "    </tr>\n",
       "  </thead>\n",
       "  <tbody>\n",
       "    <tr>\n",
       "      <th>0</th>\n",
       "      <td>36000</td>\n",
       "      <td>New York State</td>\n",
       "      <td>2019</td>\n",
       "      <td>Postcensal Population Estimate</td>\n",
       "      <td>19453561</td>\n",
       "    </tr>\n",
       "    <tr>\n",
       "      <th>1</th>\n",
       "      <td>36001</td>\n",
       "      <td>Albany County</td>\n",
       "      <td>2019</td>\n",
       "      <td>Postcensal Population Estimate</td>\n",
       "      <td>305506</td>\n",
       "    </tr>\n",
       "    <tr>\n",
       "      <th>2</th>\n",
       "      <td>36003</td>\n",
       "      <td>Allegany County</td>\n",
       "      <td>2019</td>\n",
       "      <td>Postcensal Population Estimate</td>\n",
       "      <td>46091</td>\n",
       "    </tr>\n",
       "    <tr>\n",
       "      <th>3</th>\n",
       "      <td>36005</td>\n",
       "      <td>Bronx County</td>\n",
       "      <td>2019</td>\n",
       "      <td>Postcensal Population Estimate</td>\n",
       "      <td>1418207</td>\n",
       "    </tr>\n",
       "    <tr>\n",
       "      <th>4</th>\n",
       "      <td>36007</td>\n",
       "      <td>Broome County</td>\n",
       "      <td>2019</td>\n",
       "      <td>Postcensal Population Estimate</td>\n",
       "      <td>190488</td>\n",
       "    </tr>\n",
       "  </tbody>\n",
       "</table>\n",
       "</div>"
      ],
      "text/plain": [
       "   FIPS Code        Geography  Year                    Program Type  \\\n",
       "0      36000   New York State  2019  Postcensal Population Estimate   \n",
       "1      36001    Albany County  2019  Postcensal Population Estimate   \n",
       "2      36003  Allegany County  2019  Postcensal Population Estimate   \n",
       "3      36005     Bronx County  2019  Postcensal Population Estimate   \n",
       "4      36007    Broome County  2019  Postcensal Population Estimate   \n",
       "\n",
       "   Population  \n",
       "0    19453561  \n",
       "1      305506  \n",
       "2       46091  \n",
       "3     1418207  \n",
       "4      190488  "
      ]
     },
     "execution_count": 600,
     "metadata": {},
     "output_type": "execute_result"
    }
   ],
   "source": [
    "population_data = pd.read_csv('Annual_Population_Estimates_for_New_York_State_and_Counties__Beginning_1970.csv')\n",
    "population_data.head()"
   ]
  },
  {
   "cell_type": "markdown",
   "metadata": {},
   "source": [
    "But this dataset has population of every year since 1970 till 2019 for every county in NY state but we do not need this data. We only need data which belong to year 2019 as our existing traffic dataset has the data for year 2019"
   ]
  },
  {
   "cell_type": "code",
   "execution_count": 601,
   "metadata": {},
   "outputs": [
    {
     "data": {
      "text/html": [
       "<div>\n",
       "<style scoped>\n",
       "    .dataframe tbody tr th:only-of-type {\n",
       "        vertical-align: middle;\n",
       "    }\n",
       "\n",
       "    .dataframe tbody tr th {\n",
       "        vertical-align: top;\n",
       "    }\n",
       "\n",
       "    .dataframe thead th {\n",
       "        text-align: right;\n",
       "    }\n",
       "</style>\n",
       "<table border=\"1\" class=\"dataframe\">\n",
       "  <thead>\n",
       "    <tr style=\"text-align: right;\">\n",
       "      <th></th>\n",
       "      <th>FIPS Code</th>\n",
       "      <th>Geography</th>\n",
       "      <th>Year</th>\n",
       "      <th>Program Type</th>\n",
       "      <th>Population</th>\n",
       "    </tr>\n",
       "  </thead>\n",
       "  <tbody>\n",
       "    <tr>\n",
       "      <th>0</th>\n",
       "      <td>36000</td>\n",
       "      <td>New York State</td>\n",
       "      <td>2019</td>\n",
       "      <td>Postcensal Population Estimate</td>\n",
       "      <td>19453561</td>\n",
       "    </tr>\n",
       "    <tr>\n",
       "      <th>1</th>\n",
       "      <td>36001</td>\n",
       "      <td>Albany County</td>\n",
       "      <td>2019</td>\n",
       "      <td>Postcensal Population Estimate</td>\n",
       "      <td>305506</td>\n",
       "    </tr>\n",
       "    <tr>\n",
       "      <th>2</th>\n",
       "      <td>36003</td>\n",
       "      <td>Allegany County</td>\n",
       "      <td>2019</td>\n",
       "      <td>Postcensal Population Estimate</td>\n",
       "      <td>46091</td>\n",
       "    </tr>\n",
       "    <tr>\n",
       "      <th>3</th>\n",
       "      <td>36005</td>\n",
       "      <td>Bronx County</td>\n",
       "      <td>2019</td>\n",
       "      <td>Postcensal Population Estimate</td>\n",
       "      <td>1418207</td>\n",
       "    </tr>\n",
       "    <tr>\n",
       "      <th>4</th>\n",
       "      <td>36007</td>\n",
       "      <td>Broome County</td>\n",
       "      <td>2019</td>\n",
       "      <td>Postcensal Population Estimate</td>\n",
       "      <td>190488</td>\n",
       "    </tr>\n",
       "    <tr>\n",
       "      <th>...</th>\n",
       "      <td>...</td>\n",
       "      <td>...</td>\n",
       "      <td>...</td>\n",
       "      <td>...</td>\n",
       "      <td>...</td>\n",
       "    </tr>\n",
       "    <tr>\n",
       "      <th>58</th>\n",
       "      <td>36115</td>\n",
       "      <td>Washington County</td>\n",
       "      <td>2019</td>\n",
       "      <td>Postcensal Population Estimate</td>\n",
       "      <td>61204</td>\n",
       "    </tr>\n",
       "    <tr>\n",
       "      <th>59</th>\n",
       "      <td>36117</td>\n",
       "      <td>Wayne County</td>\n",
       "      <td>2019</td>\n",
       "      <td>Postcensal Population Estimate</td>\n",
       "      <td>89918</td>\n",
       "    </tr>\n",
       "    <tr>\n",
       "      <th>60</th>\n",
       "      <td>36119</td>\n",
       "      <td>Westchester County</td>\n",
       "      <td>2019</td>\n",
       "      <td>Postcensal Population Estimate</td>\n",
       "      <td>967506</td>\n",
       "    </tr>\n",
       "    <tr>\n",
       "      <th>61</th>\n",
       "      <td>36121</td>\n",
       "      <td>Wyoming County</td>\n",
       "      <td>2019</td>\n",
       "      <td>Postcensal Population Estimate</td>\n",
       "      <td>39859</td>\n",
       "    </tr>\n",
       "    <tr>\n",
       "      <th>62</th>\n",
       "      <td>36123</td>\n",
       "      <td>Yates County</td>\n",
       "      <td>2019</td>\n",
       "      <td>Postcensal Population Estimate</td>\n",
       "      <td>24913</td>\n",
       "    </tr>\n",
       "  </tbody>\n",
       "</table>\n",
       "<p>63 rows × 5 columns</p>\n",
       "</div>"
      ],
      "text/plain": [
       "    FIPS Code           Geography  Year                    Program Type  \\\n",
       "0       36000      New York State  2019  Postcensal Population Estimate   \n",
       "1       36001       Albany County  2019  Postcensal Population Estimate   \n",
       "2       36003     Allegany County  2019  Postcensal Population Estimate   \n",
       "3       36005        Bronx County  2019  Postcensal Population Estimate   \n",
       "4       36007       Broome County  2019  Postcensal Population Estimate   \n",
       "..        ...                 ...   ...                             ...   \n",
       "58      36115   Washington County  2019  Postcensal Population Estimate   \n",
       "59      36117        Wayne County  2019  Postcensal Population Estimate   \n",
       "60      36119  Westchester County  2019  Postcensal Population Estimate   \n",
       "61      36121      Wyoming County  2019  Postcensal Population Estimate   \n",
       "62      36123        Yates County  2019  Postcensal Population Estimate   \n",
       "\n",
       "    Population  \n",
       "0     19453561  \n",
       "1       305506  \n",
       "2        46091  \n",
       "3      1418207  \n",
       "4       190488  \n",
       "..         ...  \n",
       "58       61204  \n",
       "59       89918  \n",
       "60      967506  \n",
       "61       39859  \n",
       "62       24913  \n",
       "\n",
       "[63 rows x 5 columns]"
      ]
     },
     "execution_count": 601,
     "metadata": {},
     "output_type": "execute_result"
    }
   ],
   "source": [
    "population_data_2019 = population_data[population_data['Year'] == 2019]\n",
    "population_data_2019"
   ]
  },
  {
   "cell_type": "markdown",
   "metadata": {},
   "source": [
    "County wise population for year 2019.\n",
    "\n",
    "---\n",
    "Now we need to add 'County' to our existing traffic dataset inorder to make it compatible to the population dataset."
   ]
  },
  {
   "cell_type": "code",
   "execution_count": 602,
   "metadata": {},
   "outputs": [],
   "source": [
    "refined_data_2019['County'] = refined_data_2019['County'].apply(lambda x: x + ' County')"
   ]
  },
  {
   "cell_type": "code",
   "execution_count": 609,
   "metadata": {},
   "outputs": [
    {
     "data": {
      "text/html": [
       "<div>\n",
       "<style scoped>\n",
       "    .dataframe tbody tr th:only-of-type {\n",
       "        vertical-align: middle;\n",
       "    }\n",
       "\n",
       "    .dataframe tbody tr th {\n",
       "        vertical-align: top;\n",
       "    }\n",
       "\n",
       "    .dataframe thead th {\n",
       "        text-align: right;\n",
       "    }\n",
       "</style>\n",
       "<table border=\"1\" class=\"dataframe\">\n",
       "  <thead>\n",
       "    <tr style=\"text-align: right;\">\n",
       "      <th></th>\n",
       "      <th>Station ID</th>\n",
       "      <th>County</th>\n",
       "      <th>Signing</th>\n",
       "      <th>Municipality</th>\n",
       "      <th>Length</th>\n",
       "      <th>Functional Class</th>\n",
       "      <th>Ramp</th>\n",
       "      <th>Bridge</th>\n",
       "      <th>Railroad Crossing</th>\n",
       "      <th>One Way</th>\n",
       "      <th>Count</th>\n",
       "    </tr>\n",
       "  </thead>\n",
       "  <tbody>\n",
       "    <tr>\n",
       "      <th>0</th>\n",
       "      <td>10001</td>\n",
       "      <td>Bronx County</td>\n",
       "      <td>Interstate</td>\n",
       "      <td>Bronx</td>\n",
       "      <td>7</td>\n",
       "      <td>11</td>\n",
       "      <td>N</td>\n",
       "      <td>Y</td>\n",
       "      <td>N</td>\n",
       "      <td>N</td>\n",
       "      <td>81839.0</td>\n",
       "    </tr>\n",
       "    <tr>\n",
       "      <th>1</th>\n",
       "      <td>10002</td>\n",
       "      <td>Bronx County</td>\n",
       "      <td>Interstate</td>\n",
       "      <td>Bronx</td>\n",
       "      <td>51</td>\n",
       "      <td>11</td>\n",
       "      <td>N</td>\n",
       "      <td>Y</td>\n",
       "      <td>N</td>\n",
       "      <td>N</td>\n",
       "      <td>92512.0</td>\n",
       "    </tr>\n",
       "    <tr>\n",
       "      <th>2</th>\n",
       "      <td>10003</td>\n",
       "      <td>Bronx County</td>\n",
       "      <td>Interstate</td>\n",
       "      <td>Bronx</td>\n",
       "      <td>63</td>\n",
       "      <td>11</td>\n",
       "      <td>N</td>\n",
       "      <td>N</td>\n",
       "      <td>N</td>\n",
       "      <td>N</td>\n",
       "      <td>140871.0</td>\n",
       "    </tr>\n",
       "    <tr>\n",
       "      <th>3</th>\n",
       "      <td>10004</td>\n",
       "      <td>Bronx County</td>\n",
       "      <td>US</td>\n",
       "      <td>Bronx</td>\n",
       "      <td>151</td>\n",
       "      <td>14</td>\n",
       "      <td>N</td>\n",
       "      <td>N</td>\n",
       "      <td>N</td>\n",
       "      <td>N</td>\n",
       "      <td>15198.0</td>\n",
       "    </tr>\n",
       "    <tr>\n",
       "      <th>4</th>\n",
       "      <td>10005</td>\n",
       "      <td>Bronx County</td>\n",
       "      <td>US</td>\n",
       "      <td>Bronx</td>\n",
       "      <td>112</td>\n",
       "      <td>14</td>\n",
       "      <td>N</td>\n",
       "      <td>Y</td>\n",
       "      <td>N</td>\n",
       "      <td>N</td>\n",
       "      <td>32254.0</td>\n",
       "    </tr>\n",
       "    <tr>\n",
       "      <th>...</th>\n",
       "      <td>...</td>\n",
       "      <td>...</td>\n",
       "      <td>...</td>\n",
       "      <td>...</td>\n",
       "      <td>...</td>\n",
       "      <td>...</td>\n",
       "      <td>...</td>\n",
       "      <td>...</td>\n",
       "      <td>...</td>\n",
       "      <td>...</td>\n",
       "      <td>...</td>\n",
       "    </tr>\n",
       "    <tr>\n",
       "      <th>60316</th>\n",
       "      <td>978036</td>\n",
       "      <td>Tioga County</td>\n",
       "      <td>Local</td>\n",
       "      <td>Nichols</td>\n",
       "      <td>77</td>\n",
       "      <td>19</td>\n",
       "      <td>N</td>\n",
       "      <td>N</td>\n",
       "      <td>N</td>\n",
       "      <td>N</td>\n",
       "      <td>518.0</td>\n",
       "    </tr>\n",
       "    <tr>\n",
       "      <th>60317</th>\n",
       "      <td>978037</td>\n",
       "      <td>Tioga County</td>\n",
       "      <td>Local</td>\n",
       "      <td>Barton</td>\n",
       "      <td>33</td>\n",
       "      <td>17</td>\n",
       "      <td>N</td>\n",
       "      <td>N</td>\n",
       "      <td>N</td>\n",
       "      <td>N</td>\n",
       "      <td>1679.0</td>\n",
       "    </tr>\n",
       "    <tr>\n",
       "      <th>60318</th>\n",
       "      <td>978516</td>\n",
       "      <td>Tioga County</td>\n",
       "      <td>Local</td>\n",
       "      <td>Owego</td>\n",
       "      <td>56</td>\n",
       "      <td>8</td>\n",
       "      <td>N</td>\n",
       "      <td>N</td>\n",
       "      <td>N</td>\n",
       "      <td>N</td>\n",
       "      <td>306.0</td>\n",
       "    </tr>\n",
       "    <tr>\n",
       "      <th>60319</th>\n",
       "      <td>978534</td>\n",
       "      <td>Tioga County</td>\n",
       "      <td>Local</td>\n",
       "      <td>Tioga</td>\n",
       "      <td>10</td>\n",
       "      <td>19</td>\n",
       "      <td>N</td>\n",
       "      <td>N</td>\n",
       "      <td>N</td>\n",
       "      <td>N</td>\n",
       "      <td>272.0</td>\n",
       "    </tr>\n",
       "    <tr>\n",
       "      <th>60320</th>\n",
       "      <td>978608</td>\n",
       "      <td>Tioga County</td>\n",
       "      <td>Local</td>\n",
       "      <td>Barton</td>\n",
       "      <td>89</td>\n",
       "      <td>7</td>\n",
       "      <td>N</td>\n",
       "      <td>N</td>\n",
       "      <td>N</td>\n",
       "      <td>N</td>\n",
       "      <td>933.0</td>\n",
       "    </tr>\n",
       "  </tbody>\n",
       "</table>\n",
       "<p>60320 rows × 11 columns</p>\n",
       "</div>"
      ],
      "text/plain": [
       "       Station ID        County     Signing Municipality  Length  \\\n",
       "0           10001  Bronx County  Interstate        Bronx       7   \n",
       "1           10002  Bronx County  Interstate        Bronx      51   \n",
       "2           10003  Bronx County  Interstate        Bronx      63   \n",
       "3           10004  Bronx County          US        Bronx     151   \n",
       "4           10005  Bronx County          US        Bronx     112   \n",
       "...           ...           ...         ...          ...     ...   \n",
       "60316      978036  Tioga County       Local      Nichols      77   \n",
       "60317      978037  Tioga County       Local       Barton      33   \n",
       "60318      978516  Tioga County       Local        Owego      56   \n",
       "60319      978534  Tioga County       Local        Tioga      10   \n",
       "60320      978608  Tioga County       Local       Barton      89   \n",
       "\n",
       "       Functional Class Ramp Bridge Railroad Crossing One Way     Count  \n",
       "0                    11    N      Y                 N       N   81839.0  \n",
       "1                    11    N      Y                 N       N   92512.0  \n",
       "2                    11    N      N                 N       N  140871.0  \n",
       "3                    14    N      N                 N       N   15198.0  \n",
       "4                    14    N      Y                 N       N   32254.0  \n",
       "...                 ...  ...    ...               ...     ...       ...  \n",
       "60316                19    N      N                 N       N     518.0  \n",
       "60317                17    N      N                 N       N    1679.0  \n",
       "60318                 8    N      N                 N       N     306.0  \n",
       "60319                19    N      N                 N       N     272.0  \n",
       "60320                 7    N      N                 N       N     933.0  \n",
       "\n",
       "[60320 rows x 11 columns]"
      ]
     },
     "execution_count": 609,
     "metadata": {},
     "output_type": "execute_result"
    }
   ],
   "source": [
    "refined_data_2019"
   ]
  },
  {
   "cell_type": "markdown",
   "metadata": {},
   "source": [
    "---\n",
    "We need to drop the entry with 'Geography' = New York State from population dataset as we do not need it at all."
   ]
  },
  {
   "cell_type": "code",
   "execution_count": 604,
   "metadata": {},
   "outputs": [
    {
     "data": {
      "text/html": [
       "<div>\n",
       "<style scoped>\n",
       "    .dataframe tbody tr th:only-of-type {\n",
       "        vertical-align: middle;\n",
       "    }\n",
       "\n",
       "    .dataframe tbody tr th {\n",
       "        vertical-align: top;\n",
       "    }\n",
       "\n",
       "    .dataframe thead th {\n",
       "        text-align: right;\n",
       "    }\n",
       "</style>\n",
       "<table border=\"1\" class=\"dataframe\">\n",
       "  <thead>\n",
       "    <tr style=\"text-align: right;\">\n",
       "      <th></th>\n",
       "      <th>FIPS Code</th>\n",
       "      <th>Geography</th>\n",
       "      <th>Year</th>\n",
       "      <th>Program Type</th>\n",
       "      <th>Population</th>\n",
       "    </tr>\n",
       "  </thead>\n",
       "  <tbody>\n",
       "    <tr>\n",
       "      <th>1</th>\n",
       "      <td>36001</td>\n",
       "      <td>Albany County</td>\n",
       "      <td>2019</td>\n",
       "      <td>Postcensal Population Estimate</td>\n",
       "      <td>305506</td>\n",
       "    </tr>\n",
       "    <tr>\n",
       "      <th>2</th>\n",
       "      <td>36003</td>\n",
       "      <td>Allegany County</td>\n",
       "      <td>2019</td>\n",
       "      <td>Postcensal Population Estimate</td>\n",
       "      <td>46091</td>\n",
       "    </tr>\n",
       "    <tr>\n",
       "      <th>3</th>\n",
       "      <td>36005</td>\n",
       "      <td>Bronx County</td>\n",
       "      <td>2019</td>\n",
       "      <td>Postcensal Population Estimate</td>\n",
       "      <td>1418207</td>\n",
       "    </tr>\n",
       "    <tr>\n",
       "      <th>4</th>\n",
       "      <td>36007</td>\n",
       "      <td>Broome County</td>\n",
       "      <td>2019</td>\n",
       "      <td>Postcensal Population Estimate</td>\n",
       "      <td>190488</td>\n",
       "    </tr>\n",
       "    <tr>\n",
       "      <th>5</th>\n",
       "      <td>36009</td>\n",
       "      <td>Cattaraugus County</td>\n",
       "      <td>2019</td>\n",
       "      <td>Postcensal Population Estimate</td>\n",
       "      <td>76117</td>\n",
       "    </tr>\n",
       "    <tr>\n",
       "      <th>...</th>\n",
       "      <td>...</td>\n",
       "      <td>...</td>\n",
       "      <td>...</td>\n",
       "      <td>...</td>\n",
       "      <td>...</td>\n",
       "    </tr>\n",
       "    <tr>\n",
       "      <th>58</th>\n",
       "      <td>36115</td>\n",
       "      <td>Washington County</td>\n",
       "      <td>2019</td>\n",
       "      <td>Postcensal Population Estimate</td>\n",
       "      <td>61204</td>\n",
       "    </tr>\n",
       "    <tr>\n",
       "      <th>59</th>\n",
       "      <td>36117</td>\n",
       "      <td>Wayne County</td>\n",
       "      <td>2019</td>\n",
       "      <td>Postcensal Population Estimate</td>\n",
       "      <td>89918</td>\n",
       "    </tr>\n",
       "    <tr>\n",
       "      <th>60</th>\n",
       "      <td>36119</td>\n",
       "      <td>Westchester County</td>\n",
       "      <td>2019</td>\n",
       "      <td>Postcensal Population Estimate</td>\n",
       "      <td>967506</td>\n",
       "    </tr>\n",
       "    <tr>\n",
       "      <th>61</th>\n",
       "      <td>36121</td>\n",
       "      <td>Wyoming County</td>\n",
       "      <td>2019</td>\n",
       "      <td>Postcensal Population Estimate</td>\n",
       "      <td>39859</td>\n",
       "    </tr>\n",
       "    <tr>\n",
       "      <th>62</th>\n",
       "      <td>36123</td>\n",
       "      <td>Yates County</td>\n",
       "      <td>2019</td>\n",
       "      <td>Postcensal Population Estimate</td>\n",
       "      <td>24913</td>\n",
       "    </tr>\n",
       "  </tbody>\n",
       "</table>\n",
       "<p>62 rows × 5 columns</p>\n",
       "</div>"
      ],
      "text/plain": [
       "    FIPS Code           Geography  Year                    Program Type  \\\n",
       "1       36001       Albany County  2019  Postcensal Population Estimate   \n",
       "2       36003     Allegany County  2019  Postcensal Population Estimate   \n",
       "3       36005        Bronx County  2019  Postcensal Population Estimate   \n",
       "4       36007       Broome County  2019  Postcensal Population Estimate   \n",
       "5       36009  Cattaraugus County  2019  Postcensal Population Estimate   \n",
       "..        ...                 ...   ...                             ...   \n",
       "58      36115   Washington County  2019  Postcensal Population Estimate   \n",
       "59      36117        Wayne County  2019  Postcensal Population Estimate   \n",
       "60      36119  Westchester County  2019  Postcensal Population Estimate   \n",
       "61      36121      Wyoming County  2019  Postcensal Population Estimate   \n",
       "62      36123        Yates County  2019  Postcensal Population Estimate   \n",
       "\n",
       "    Population  \n",
       "1       305506  \n",
       "2        46091  \n",
       "3      1418207  \n",
       "4       190488  \n",
       "5        76117  \n",
       "..         ...  \n",
       "58       61204  \n",
       "59       89918  \n",
       "60      967506  \n",
       "61       39859  \n",
       "62       24913  \n",
       "\n",
       "[62 rows x 5 columns]"
      ]
     },
     "execution_count": 604,
     "metadata": {},
     "output_type": "execute_result"
    }
   ],
   "source": [
    "population_data_2019 = population_data_2019.drop(0)\n",
    "\n",
    "population_data_2019"
   ]
  },
  {
   "cell_type": "markdown",
   "metadata": {},
   "source": [
    "Changing column name from Geography to County inorder to make it compatible"
   ]
  },
  {
   "cell_type": "code",
   "execution_count": 605,
   "metadata": {},
   "outputs": [
    {
     "data": {
      "text/html": [
       "<div>\n",
       "<style scoped>\n",
       "    .dataframe tbody tr th:only-of-type {\n",
       "        vertical-align: middle;\n",
       "    }\n",
       "\n",
       "    .dataframe tbody tr th {\n",
       "        vertical-align: top;\n",
       "    }\n",
       "\n",
       "    .dataframe thead th {\n",
       "        text-align: right;\n",
       "    }\n",
       "</style>\n",
       "<table border=\"1\" class=\"dataframe\">\n",
       "  <thead>\n",
       "    <tr style=\"text-align: right;\">\n",
       "      <th></th>\n",
       "      <th>FIPS Code</th>\n",
       "      <th>County</th>\n",
       "      <th>Year</th>\n",
       "      <th>Program Type</th>\n",
       "      <th>Population</th>\n",
       "    </tr>\n",
       "  </thead>\n",
       "  <tbody>\n",
       "    <tr>\n",
       "      <th>1</th>\n",
       "      <td>36001</td>\n",
       "      <td>Albany County</td>\n",
       "      <td>2019</td>\n",
       "      <td>Postcensal Population Estimate</td>\n",
       "      <td>305506</td>\n",
       "    </tr>\n",
       "    <tr>\n",
       "      <th>2</th>\n",
       "      <td>36003</td>\n",
       "      <td>Allegany County</td>\n",
       "      <td>2019</td>\n",
       "      <td>Postcensal Population Estimate</td>\n",
       "      <td>46091</td>\n",
       "    </tr>\n",
       "    <tr>\n",
       "      <th>3</th>\n",
       "      <td>36005</td>\n",
       "      <td>Bronx County</td>\n",
       "      <td>2019</td>\n",
       "      <td>Postcensal Population Estimate</td>\n",
       "      <td>1418207</td>\n",
       "    </tr>\n",
       "    <tr>\n",
       "      <th>4</th>\n",
       "      <td>36007</td>\n",
       "      <td>Broome County</td>\n",
       "      <td>2019</td>\n",
       "      <td>Postcensal Population Estimate</td>\n",
       "      <td>190488</td>\n",
       "    </tr>\n",
       "    <tr>\n",
       "      <th>5</th>\n",
       "      <td>36009</td>\n",
       "      <td>Cattaraugus County</td>\n",
       "      <td>2019</td>\n",
       "      <td>Postcensal Population Estimate</td>\n",
       "      <td>76117</td>\n",
       "    </tr>\n",
       "    <tr>\n",
       "      <th>...</th>\n",
       "      <td>...</td>\n",
       "      <td>...</td>\n",
       "      <td>...</td>\n",
       "      <td>...</td>\n",
       "      <td>...</td>\n",
       "    </tr>\n",
       "    <tr>\n",
       "      <th>58</th>\n",
       "      <td>36115</td>\n",
       "      <td>Washington County</td>\n",
       "      <td>2019</td>\n",
       "      <td>Postcensal Population Estimate</td>\n",
       "      <td>61204</td>\n",
       "    </tr>\n",
       "    <tr>\n",
       "      <th>59</th>\n",
       "      <td>36117</td>\n",
       "      <td>Wayne County</td>\n",
       "      <td>2019</td>\n",
       "      <td>Postcensal Population Estimate</td>\n",
       "      <td>89918</td>\n",
       "    </tr>\n",
       "    <tr>\n",
       "      <th>60</th>\n",
       "      <td>36119</td>\n",
       "      <td>Westchester County</td>\n",
       "      <td>2019</td>\n",
       "      <td>Postcensal Population Estimate</td>\n",
       "      <td>967506</td>\n",
       "    </tr>\n",
       "    <tr>\n",
       "      <th>61</th>\n",
       "      <td>36121</td>\n",
       "      <td>Wyoming County</td>\n",
       "      <td>2019</td>\n",
       "      <td>Postcensal Population Estimate</td>\n",
       "      <td>39859</td>\n",
       "    </tr>\n",
       "    <tr>\n",
       "      <th>62</th>\n",
       "      <td>36123</td>\n",
       "      <td>Yates County</td>\n",
       "      <td>2019</td>\n",
       "      <td>Postcensal Population Estimate</td>\n",
       "      <td>24913</td>\n",
       "    </tr>\n",
       "  </tbody>\n",
       "</table>\n",
       "<p>62 rows × 5 columns</p>\n",
       "</div>"
      ],
      "text/plain": [
       "    FIPS Code              County  Year                    Program Type  \\\n",
       "1       36001       Albany County  2019  Postcensal Population Estimate   \n",
       "2       36003     Allegany County  2019  Postcensal Population Estimate   \n",
       "3       36005        Bronx County  2019  Postcensal Population Estimate   \n",
       "4       36007       Broome County  2019  Postcensal Population Estimate   \n",
       "5       36009  Cattaraugus County  2019  Postcensal Population Estimate   \n",
       "..        ...                 ...   ...                             ...   \n",
       "58      36115   Washington County  2019  Postcensal Population Estimate   \n",
       "59      36117        Wayne County  2019  Postcensal Population Estimate   \n",
       "60      36119  Westchester County  2019  Postcensal Population Estimate   \n",
       "61      36121      Wyoming County  2019  Postcensal Population Estimate   \n",
       "62      36123        Yates County  2019  Postcensal Population Estimate   \n",
       "\n",
       "    Population  \n",
       "1       305506  \n",
       "2        46091  \n",
       "3      1418207  \n",
       "4       190488  \n",
       "5        76117  \n",
       "..         ...  \n",
       "58       61204  \n",
       "59       89918  \n",
       "60      967506  \n",
       "61       39859  \n",
       "62       24913  \n",
       "\n",
       "[62 rows x 5 columns]"
      ]
     },
     "execution_count": 605,
     "metadata": {},
     "output_type": "execute_result"
    }
   ],
   "source": [
    "population_data_2019 = population_data_2019.rename(columns={'Geography': 'County'})\n",
    "population_data_2019\n"
   ]
  },
  {
   "cell_type": "code",
   "execution_count": 607,
   "metadata": {},
   "outputs": [
    {
     "data": {
      "text/html": [
       "<div>\n",
       "<style scoped>\n",
       "    .dataframe tbody tr th:only-of-type {\n",
       "        vertical-align: middle;\n",
       "    }\n",
       "\n",
       "    .dataframe tbody tr th {\n",
       "        vertical-align: top;\n",
       "    }\n",
       "\n",
       "    .dataframe thead th {\n",
       "        text-align: right;\n",
       "    }\n",
       "</style>\n",
       "<table border=\"1\" class=\"dataframe\">\n",
       "  <thead>\n",
       "    <tr style=\"text-align: right;\">\n",
       "      <th></th>\n",
       "      <th>County</th>\n",
       "      <th>Year</th>\n",
       "      <th>Population</th>\n",
       "    </tr>\n",
       "  </thead>\n",
       "  <tbody>\n",
       "    <tr>\n",
       "      <th>1</th>\n",
       "      <td>Albany County</td>\n",
       "      <td>2019</td>\n",
       "      <td>305506</td>\n",
       "    </tr>\n",
       "    <tr>\n",
       "      <th>2</th>\n",
       "      <td>Allegany County</td>\n",
       "      <td>2019</td>\n",
       "      <td>46091</td>\n",
       "    </tr>\n",
       "    <tr>\n",
       "      <th>3</th>\n",
       "      <td>Bronx County</td>\n",
       "      <td>2019</td>\n",
       "      <td>1418207</td>\n",
       "    </tr>\n",
       "    <tr>\n",
       "      <th>4</th>\n",
       "      <td>Broome County</td>\n",
       "      <td>2019</td>\n",
       "      <td>190488</td>\n",
       "    </tr>\n",
       "    <tr>\n",
       "      <th>5</th>\n",
       "      <td>Cattaraugus County</td>\n",
       "      <td>2019</td>\n",
       "      <td>76117</td>\n",
       "    </tr>\n",
       "    <tr>\n",
       "      <th>...</th>\n",
       "      <td>...</td>\n",
       "      <td>...</td>\n",
       "      <td>...</td>\n",
       "    </tr>\n",
       "    <tr>\n",
       "      <th>58</th>\n",
       "      <td>Washington County</td>\n",
       "      <td>2019</td>\n",
       "      <td>61204</td>\n",
       "    </tr>\n",
       "    <tr>\n",
       "      <th>59</th>\n",
       "      <td>Wayne County</td>\n",
       "      <td>2019</td>\n",
       "      <td>89918</td>\n",
       "    </tr>\n",
       "    <tr>\n",
       "      <th>60</th>\n",
       "      <td>Westchester County</td>\n",
       "      <td>2019</td>\n",
       "      <td>967506</td>\n",
       "    </tr>\n",
       "    <tr>\n",
       "      <th>61</th>\n",
       "      <td>Wyoming County</td>\n",
       "      <td>2019</td>\n",
       "      <td>39859</td>\n",
       "    </tr>\n",
       "    <tr>\n",
       "      <th>62</th>\n",
       "      <td>Yates County</td>\n",
       "      <td>2019</td>\n",
       "      <td>24913</td>\n",
       "    </tr>\n",
       "  </tbody>\n",
       "</table>\n",
       "<p>62 rows × 3 columns</p>\n",
       "</div>"
      ],
      "text/plain": [
       "                County  Year  Population\n",
       "1        Albany County  2019      305506\n",
       "2      Allegany County  2019       46091\n",
       "3         Bronx County  2019     1418207\n",
       "4        Broome County  2019      190488\n",
       "5   Cattaraugus County  2019       76117\n",
       "..                 ...   ...         ...\n",
       "58   Washington County  2019       61204\n",
       "59        Wayne County  2019       89918\n",
       "60  Westchester County  2019      967506\n",
       "61      Wyoming County  2019       39859\n",
       "62        Yates County  2019       24913\n",
       "\n",
       "[62 rows x 3 columns]"
      ]
     },
     "execution_count": 607,
     "metadata": {},
     "output_type": "execute_result"
    }
   ],
   "source": [
    "population_data_2019 = population_data_2019.drop(columns=['Program Type', 'FIPS Code'])\n",
    "population_data_2019"
   ]
  },
  {
   "cell_type": "markdown",
   "metadata": {},
   "source": [
    "## Combining to datasets"
   ]
  },
  {
   "cell_type": "markdown",
   "metadata": {},
   "source": [
    "Before combining them, we need to make them compatible as each county in traffic dataset is sub divided into many small traffic stations based on many factors. So we need to group the dataset by County and combine the traffic counts and any other meaningful variables which makes sense when compressed."
   ]
  },
  {
   "cell_type": "markdown",
   "metadata": {},
   "source": [
    "## Grouping the traffic dataset by County name"
   ]
  },
  {
   "cell_type": "code",
   "execution_count": 610,
   "metadata": {},
   "outputs": [
    {
     "data": {
      "text/html": [
       "<div>\n",
       "<style scoped>\n",
       "    .dataframe tbody tr th:only-of-type {\n",
       "        vertical-align: middle;\n",
       "    }\n",
       "\n",
       "    .dataframe tbody tr th {\n",
       "        vertical-align: top;\n",
       "    }\n",
       "\n",
       "    .dataframe thead th {\n",
       "        text-align: right;\n",
       "    }\n",
       "</style>\n",
       "<table border=\"1\" class=\"dataframe\">\n",
       "  <thead>\n",
       "    <tr style=\"text-align: right;\">\n",
       "      <th></th>\n",
       "      <th>County</th>\n",
       "      <th>Total_length</th>\n",
       "      <th>Total_traffic_count</th>\n",
       "    </tr>\n",
       "  </thead>\n",
       "  <tbody>\n",
       "    <tr>\n",
       "      <th>0</th>\n",
       "      <td>Albany County</td>\n",
       "      <td>97320</td>\n",
       "      <td>9774984.0</td>\n",
       "    </tr>\n",
       "    <tr>\n",
       "      <th>1</th>\n",
       "      <td>Allegany County</td>\n",
       "      <td>82571</td>\n",
       "      <td>486275.0</td>\n",
       "    </tr>\n",
       "    <tr>\n",
       "      <th>2</th>\n",
       "      <td>Bronx County</td>\n",
       "      <td>45759</td>\n",
       "      <td>13743371.0</td>\n",
       "    </tr>\n",
       "    <tr>\n",
       "      <th>3</th>\n",
       "      <td>Broome County</td>\n",
       "      <td>90168</td>\n",
       "      <td>4875364.0</td>\n",
       "    </tr>\n",
       "    <tr>\n",
       "      <th>4</th>\n",
       "      <td>Cattaraugus County</td>\n",
       "      <td>113636</td>\n",
       "      <td>1197224.0</td>\n",
       "    </tr>\n",
       "    <tr>\n",
       "      <th>...</th>\n",
       "      <td>...</td>\n",
       "      <td>...</td>\n",
       "      <td>...</td>\n",
       "    </tr>\n",
       "    <tr>\n",
       "      <th>57</th>\n",
       "      <td>Washington County</td>\n",
       "      <td>63624</td>\n",
       "      <td>658683.0</td>\n",
       "    </tr>\n",
       "    <tr>\n",
       "      <th>58</th>\n",
       "      <td>Wayne County</td>\n",
       "      <td>52373</td>\n",
       "      <td>821701.0</td>\n",
       "    </tr>\n",
       "    <tr>\n",
       "      <th>59</th>\n",
       "      <td>Westchester County</td>\n",
       "      <td>158923</td>\n",
       "      <td>20604383.0</td>\n",
       "    </tr>\n",
       "    <tr>\n",
       "      <th>60</th>\n",
       "      <td>Wyoming County</td>\n",
       "      <td>43707</td>\n",
       "      <td>318586.0</td>\n",
       "    </tr>\n",
       "    <tr>\n",
       "      <th>61</th>\n",
       "      <td>Yates County</td>\n",
       "      <td>34422</td>\n",
       "      <td>260896.0</td>\n",
       "    </tr>\n",
       "  </tbody>\n",
       "</table>\n",
       "<p>62 rows × 3 columns</p>\n",
       "</div>"
      ],
      "text/plain": [
       "                County  Total_length  Total_traffic_count\n",
       "0        Albany County         97320            9774984.0\n",
       "1      Allegany County         82571             486275.0\n",
       "2         Bronx County         45759           13743371.0\n",
       "3        Broome County         90168            4875364.0\n",
       "4   Cattaraugus County        113636            1197224.0\n",
       "..                 ...           ...                  ...\n",
       "57   Washington County         63624             658683.0\n",
       "58        Wayne County         52373             821701.0\n",
       "59  Westchester County        158923           20604383.0\n",
       "60      Wyoming County         43707             318586.0\n",
       "61        Yates County         34422             260896.0\n",
       "\n",
       "[62 rows x 3 columns]"
      ]
     },
     "execution_count": 610,
     "metadata": {},
     "output_type": "execute_result"
    }
   ],
   "source": [
    "traffic_data_2019 = refined_data_2019.groupby(['County']).agg(Total_length = (\"Length\",sum),Total_traffic_count = (\"Count\",sum))\n",
    "traffic_data_2019 = traffic_data_2019.reset_index()\n",
    "traffic_data_2019\n"
   ]
  },
  {
   "cell_type": "markdown",
   "metadata": {},
   "source": [
    "## Joining both datasets"
   ]
  },
  {
   "cell_type": "code",
   "execution_count": 611,
   "metadata": {},
   "outputs": [
    {
     "data": {
      "text/html": [
       "<div>\n",
       "<style scoped>\n",
       "    .dataframe tbody tr th:only-of-type {\n",
       "        vertical-align: middle;\n",
       "    }\n",
       "\n",
       "    .dataframe tbody tr th {\n",
       "        vertical-align: top;\n",
       "    }\n",
       "\n",
       "    .dataframe thead th {\n",
       "        text-align: right;\n",
       "    }\n",
       "</style>\n",
       "<table border=\"1\" class=\"dataframe\">\n",
       "  <thead>\n",
       "    <tr style=\"text-align: right;\">\n",
       "      <th></th>\n",
       "      <th>County</th>\n",
       "      <th>Total_length</th>\n",
       "      <th>Total_traffic_count</th>\n",
       "      <th>Year</th>\n",
       "      <th>Population</th>\n",
       "    </tr>\n",
       "  </thead>\n",
       "  <tbody>\n",
       "    <tr>\n",
       "      <th>0</th>\n",
       "      <td>Albany County</td>\n",
       "      <td>97320</td>\n",
       "      <td>9774984.0</td>\n",
       "      <td>2019</td>\n",
       "      <td>305506</td>\n",
       "    </tr>\n",
       "    <tr>\n",
       "      <th>1</th>\n",
       "      <td>Allegany County</td>\n",
       "      <td>82571</td>\n",
       "      <td>486275.0</td>\n",
       "      <td>2019</td>\n",
       "      <td>46091</td>\n",
       "    </tr>\n",
       "    <tr>\n",
       "      <th>2</th>\n",
       "      <td>Bronx County</td>\n",
       "      <td>45759</td>\n",
       "      <td>13743371.0</td>\n",
       "      <td>2019</td>\n",
       "      <td>1418207</td>\n",
       "    </tr>\n",
       "    <tr>\n",
       "      <th>3</th>\n",
       "      <td>Broome County</td>\n",
       "      <td>90168</td>\n",
       "      <td>4875364.0</td>\n",
       "      <td>2019</td>\n",
       "      <td>190488</td>\n",
       "    </tr>\n",
       "    <tr>\n",
       "      <th>4</th>\n",
       "      <td>Cattaraugus County</td>\n",
       "      <td>113636</td>\n",
       "      <td>1197224.0</td>\n",
       "      <td>2019</td>\n",
       "      <td>76117</td>\n",
       "    </tr>\n",
       "    <tr>\n",
       "      <th>...</th>\n",
       "      <td>...</td>\n",
       "      <td>...</td>\n",
       "      <td>...</td>\n",
       "      <td>...</td>\n",
       "      <td>...</td>\n",
       "    </tr>\n",
       "    <tr>\n",
       "      <th>56</th>\n",
       "      <td>Washington County</td>\n",
       "      <td>63624</td>\n",
       "      <td>658683.0</td>\n",
       "      <td>2019</td>\n",
       "      <td>61204</td>\n",
       "    </tr>\n",
       "    <tr>\n",
       "      <th>57</th>\n",
       "      <td>Wayne County</td>\n",
       "      <td>52373</td>\n",
       "      <td>821701.0</td>\n",
       "      <td>2019</td>\n",
       "      <td>89918</td>\n",
       "    </tr>\n",
       "    <tr>\n",
       "      <th>58</th>\n",
       "      <td>Westchester County</td>\n",
       "      <td>158923</td>\n",
       "      <td>20604383.0</td>\n",
       "      <td>2019</td>\n",
       "      <td>967506</td>\n",
       "    </tr>\n",
       "    <tr>\n",
       "      <th>59</th>\n",
       "      <td>Wyoming County</td>\n",
       "      <td>43707</td>\n",
       "      <td>318586.0</td>\n",
       "      <td>2019</td>\n",
       "      <td>39859</td>\n",
       "    </tr>\n",
       "    <tr>\n",
       "      <th>60</th>\n",
       "      <td>Yates County</td>\n",
       "      <td>34422</td>\n",
       "      <td>260896.0</td>\n",
       "      <td>2019</td>\n",
       "      <td>24913</td>\n",
       "    </tr>\n",
       "  </tbody>\n",
       "</table>\n",
       "<p>61 rows × 5 columns</p>\n",
       "</div>"
      ],
      "text/plain": [
       "                County  Total_length  Total_traffic_count  Year  Population\n",
       "0        Albany County         97320            9774984.0  2019      305506\n",
       "1      Allegany County         82571             486275.0  2019       46091\n",
       "2         Bronx County         45759           13743371.0  2019     1418207\n",
       "3        Broome County         90168            4875364.0  2019      190488\n",
       "4   Cattaraugus County        113636            1197224.0  2019       76117\n",
       "..                 ...           ...                  ...   ...         ...\n",
       "56   Washington County         63624             658683.0  2019       61204\n",
       "57        Wayne County         52373             821701.0  2019       89918\n",
       "58  Westchester County        158923           20604383.0  2019      967506\n",
       "59      Wyoming County         43707             318586.0  2019       39859\n",
       "60        Yates County         34422             260896.0  2019       24913\n",
       "\n",
       "[61 rows x 5 columns]"
      ]
     },
     "execution_count": 611,
     "metadata": {},
     "output_type": "execute_result"
    }
   ],
   "source": [
    "Combined_dataset = pd.merge(traffic_data_2019,population_data_2019,how = 'inner',on =['County'])\n",
    "Combined_dataset\n"
   ]
  },
  {
   "cell_type": "code",
   "execution_count": 623,
   "metadata": {},
   "outputs": [
    {
     "name": "stdout",
     "output_type": "stream",
     "text": [
      "St. Lawrence County\n"
     ]
    }
   ],
   "source": [
    "\n",
    "for i in list(population_data_2019['County']):\n",
    "    if i not in list(Combined_dataset['County']):\n",
    "        print(i)"
   ]
  },
  {
   "cell_type": "code",
   "execution_count": 620,
   "metadata": {},
   "outputs": [
    {
     "name": "stdout",
     "output_type": "stream",
     "text": [
      "Saint Lawrence County\n"
     ]
    }
   ],
   "source": [
    "for i in list(traffic_data_2019['County']):\n",
    "    if i not in list(Combined_dataset['County']):\n",
    "        print(i)"
   ]
  },
  {
   "cell_type": "markdown",
   "metadata": {},
   "source": [
    "---\n",
    "A discrepancy has been noticed from both traffic and population datasets as the combined dataset is giving 61 rows instead of 62 rows(expected):\n",
    "i.e., St. Lawrence County in population_data_2019 and Saint Lawrence County from traffic dataset.\n",
    "So, we need to rename one of these.\n",
    "\n",
    "---"
   ]
  },
  {
   "cell_type": "code",
   "execution_count": 626,
   "metadata": {},
   "outputs": [],
   "source": [
    "traffic_data_2019 = traffic_data_2019.replace('Saint Lawrence County', 'St. Lawrence County')"
   ]
  },
  {
   "cell_type": "code",
   "execution_count": 627,
   "metadata": {},
   "outputs": [
    {
     "data": {
      "text/html": [
       "<div>\n",
       "<style scoped>\n",
       "    .dataframe tbody tr th:only-of-type {\n",
       "        vertical-align: middle;\n",
       "    }\n",
       "\n",
       "    .dataframe tbody tr th {\n",
       "        vertical-align: top;\n",
       "    }\n",
       "\n",
       "    .dataframe thead th {\n",
       "        text-align: right;\n",
       "    }\n",
       "</style>\n",
       "<table border=\"1\" class=\"dataframe\">\n",
       "  <thead>\n",
       "    <tr style=\"text-align: right;\">\n",
       "      <th></th>\n",
       "      <th>County</th>\n",
       "      <th>Total_length</th>\n",
       "      <th>Total_traffic_count</th>\n",
       "      <th>Year</th>\n",
       "      <th>Population</th>\n",
       "    </tr>\n",
       "  </thead>\n",
       "  <tbody>\n",
       "    <tr>\n",
       "      <th>0</th>\n",
       "      <td>Albany County</td>\n",
       "      <td>97320</td>\n",
       "      <td>9774984.0</td>\n",
       "      <td>2019</td>\n",
       "      <td>305506</td>\n",
       "    </tr>\n",
       "    <tr>\n",
       "      <th>1</th>\n",
       "      <td>Allegany County</td>\n",
       "      <td>82571</td>\n",
       "      <td>486275.0</td>\n",
       "      <td>2019</td>\n",
       "      <td>46091</td>\n",
       "    </tr>\n",
       "    <tr>\n",
       "      <th>2</th>\n",
       "      <td>Bronx County</td>\n",
       "      <td>45759</td>\n",
       "      <td>13743371.0</td>\n",
       "      <td>2019</td>\n",
       "      <td>1418207</td>\n",
       "    </tr>\n",
       "    <tr>\n",
       "      <th>3</th>\n",
       "      <td>Broome County</td>\n",
       "      <td>90168</td>\n",
       "      <td>4875364.0</td>\n",
       "      <td>2019</td>\n",
       "      <td>190488</td>\n",
       "    </tr>\n",
       "    <tr>\n",
       "      <th>4</th>\n",
       "      <td>Cattaraugus County</td>\n",
       "      <td>113636</td>\n",
       "      <td>1197224.0</td>\n",
       "      <td>2019</td>\n",
       "      <td>76117</td>\n",
       "    </tr>\n",
       "    <tr>\n",
       "      <th>...</th>\n",
       "      <td>...</td>\n",
       "      <td>...</td>\n",
       "      <td>...</td>\n",
       "      <td>...</td>\n",
       "      <td>...</td>\n",
       "    </tr>\n",
       "    <tr>\n",
       "      <th>57</th>\n",
       "      <td>Washington County</td>\n",
       "      <td>63624</td>\n",
       "      <td>658683.0</td>\n",
       "      <td>2019</td>\n",
       "      <td>61204</td>\n",
       "    </tr>\n",
       "    <tr>\n",
       "      <th>58</th>\n",
       "      <td>Wayne County</td>\n",
       "      <td>52373</td>\n",
       "      <td>821701.0</td>\n",
       "      <td>2019</td>\n",
       "      <td>89918</td>\n",
       "    </tr>\n",
       "    <tr>\n",
       "      <th>59</th>\n",
       "      <td>Westchester County</td>\n",
       "      <td>158923</td>\n",
       "      <td>20604383.0</td>\n",
       "      <td>2019</td>\n",
       "      <td>967506</td>\n",
       "    </tr>\n",
       "    <tr>\n",
       "      <th>60</th>\n",
       "      <td>Wyoming County</td>\n",
       "      <td>43707</td>\n",
       "      <td>318586.0</td>\n",
       "      <td>2019</td>\n",
       "      <td>39859</td>\n",
       "    </tr>\n",
       "    <tr>\n",
       "      <th>61</th>\n",
       "      <td>Yates County</td>\n",
       "      <td>34422</td>\n",
       "      <td>260896.0</td>\n",
       "      <td>2019</td>\n",
       "      <td>24913</td>\n",
       "    </tr>\n",
       "  </tbody>\n",
       "</table>\n",
       "<p>62 rows × 5 columns</p>\n",
       "</div>"
      ],
      "text/plain": [
       "                County  Total_length  Total_traffic_count  Year  Population\n",
       "0        Albany County         97320            9774984.0  2019      305506\n",
       "1      Allegany County         82571             486275.0  2019       46091\n",
       "2         Bronx County         45759           13743371.0  2019     1418207\n",
       "3        Broome County         90168            4875364.0  2019      190488\n",
       "4   Cattaraugus County        113636            1197224.0  2019       76117\n",
       "..                 ...           ...                  ...   ...         ...\n",
       "57   Washington County         63624             658683.0  2019       61204\n",
       "58        Wayne County         52373             821701.0  2019       89918\n",
       "59  Westchester County        158923           20604383.0  2019      967506\n",
       "60      Wyoming County         43707             318586.0  2019       39859\n",
       "61        Yates County         34422             260896.0  2019       24913\n",
       "\n",
       "[62 rows x 5 columns]"
      ]
     },
     "execution_count": 627,
     "metadata": {},
     "output_type": "execute_result"
    }
   ],
   "source": [
    "Combined_dataset = pd.merge(traffic_data_2019,population_data_2019,how = 'inner',on =['County'])\n",
    "Combined_dataset\n"
   ]
  },
  {
   "cell_type": "markdown",
   "metadata": {},
   "source": [
    "---\n",
    "Combined dataset has 62 entries each representing each County with its respective traffic volume, Length of roads and Population.\n",
    "\n",
    "---"
   ]
  },
  {
   "cell_type": "markdown",
   "metadata": {},
   "source": [
    "## 2. Choosing correlated variables from both datasets :"
   ]
  },
  {
   "cell_type": "markdown",
   "metadata": {},
   "source": [
    "Variables like 'Count', 'Length' from traffic dataset may be correlated to 'population' variable from population dataset.\n",
    "\n",
    "---"
   ]
  },
  {
   "cell_type": "markdown",
   "metadata": {},
   "source": [
    "## 3. Performing Statistical analysis on finding the correlation between selected features from both datasets."
   ]
  },
  {
   "cell_type": "code",
   "execution_count": 635,
   "metadata": {},
   "outputs": [
    {
     "data": {
      "image/png": "[encoded data removed]",
      "text/plain": [
       "<Figure size 432x288 with 1 Axes>"
      ]
     },
     "metadata": {
      "needs_background": "light"
     },
     "output_type": "display_data"
    }
   ],
   "source": [
    "fig, axes = plt.subplots()\n",
    "\n",
    "axes.scatter(Combined_dataset['Population'], Combined_dataset['Total_traffic_count'])\n",
    "plt.title('Correlation plot of traffic volume Counts Vs Population')\n",
    "plt.xlabel('Population')\n",
    "plt.ylabel('Total Traffic counts')\n",
    "plt.show()\n"
   ]
  },
  {
   "cell_type": "markdown",
   "metadata": {},
   "source": [
    "## Total traffic counts are seen increased with an increase in population in the county.\n",
    "---"
   ]
  },
  {
   "cell_type": "code",
   "execution_count": 655,
   "metadata": {},
   "outputs": [
    {
     "data": {
      "image/png": "[encoded data removed]",
      "text/plain": [
       "<Figure size 1296x360 with 1 Axes>"
      ]
     },
     "metadata": {
      "needs_background": "light"
     },
     "output_type": "display_data"
    }
   ],
   "source": [
    "labels = Combined_dataset['County']\n",
    "Population = np.asarray(Combined_dataset['Population'])\n",
    "Total_traffic_count = np.asarray(Combined_dataset['Total_traffic_count'])/10\n",
    "\n",
    "x = np.arange(len(labels))  # the label locations\n",
    "width = 0.35  # the width of the bars\n",
    "\n",
    "fig, ax = plt.subplots(figsize=(18,5))\n",
    "rects1 = ax.bar(x - width/2, Population, width, label='Population')\n",
    "rects2 = ax.bar(x + width/2, Total_traffic_count, width, label='Total_traffic_count')\n",
    "\n",
    "# Add some text for labels, title and custom x-axis tick labels, etc.\n",
    "ax.set_ylabel('value')\n",
    "ax.set_title('Comparision of Traffic counts (scaled by 10) and Population across Counties')\n",
    "ax.set_xticks(x)\n",
    "ax.set_xticklabels(labels)\n",
    "ax.legend()\n",
    "plt.xticks(rotation=90)\n",
    "\n",
    "\n",
    "fig.tight_layout()\n",
    "\n",
    "plt.show()"
   ]
  },
  {
   "cell_type": "code",
   "execution_count": 670,
   "metadata": {},
   "outputs": [
    {
     "data": {
      "image/png": "[encoded data removed]",
      "text/plain": [
       "<Figure size 432x288 with 1 Axes>"
      ]
     },
     "metadata": {},
     "output_type": "display_data"
    }
   ],
   "source": [
    "labels = Combined_dataset['County']\n",
    "sizes = Combined_dataset['Population']\n",
    "\n",
    "fig1, ax1 = plt.subplots()\n",
    "ax1.pie(sizes, labels=labels,  startangle=90)\n",
    "ax1.axis('equal')  # Equal aspect ratio ensures that pie is drawn as a circle.\n",
    "plt.title('Population across Counties', fontsize = 20)\n",
    "plt.show()"
   ]
  },
  {
   "cell_type": "code",
   "execution_count": 671,
   "metadata": {},
   "outputs": [
    {
     "data": {
      "image/png": "[encoded data removed]",
      "text/plain": [
       "<Figure size 432x288 with 1 Axes>"
      ]
     },
     "metadata": {},
     "output_type": "display_data"
    }
   ],
   "source": [
    "labels = Combined_dataset['County']\n",
    "sizes = Combined_dataset['Total_traffic_count']\n",
    "\n",
    "fig1, ax1 = plt.subplots()\n",
    "ax1.pie(sizes, labels=labels, startangle=90)\n",
    "\n",
    "plt.title('Total_traffic_count across Counties', fontsize = 20)\n",
    "plt.show()"
   ]
  },
  {
   "cell_type": "markdown",
   "metadata": {},
   "source": [
    "## 4. Analysis from the results: "
   ]
  },
  {
   "cell_type": "markdown",
   "metadata": {},
   "source": [
    "1. We see that Total traffic counts increasing with an increase in population in the county\n",
    "2. From the above County wise bar plot of population and Traffic counts, we can see that Except in Kings County Traffic volumes are very much correlated to Population of the county. More the population, more is the Traffic volume.\n",
    "3. Even Pie chart supports the same above point with respect to the correlation between population and traffic counts. We see Kings county not complying with the above correlation, having less traffic counts inspite of high population."
   ]
  },
  {
   "cell_type": "markdown",
   "metadata": {},
   "source": [
    "## References:\n",
    "\n",
    "https://data.ny.gov/Transportation/Annual-Average-Daily-Traffic-AADT-Beginning-1977/6amx-2pbv\n",
    "\n",
    "https://www.census.gov/data/datasets/time-series/demo/popest/2010s-state-total.html\n",
    "\n",
    "https://data.ny.gov/Government-Finance/Annual-Population-Estimates-for-New-York-State-and/krt9-ym2k/data"
   ]
  },
  {
   "cell_type": "code",
   "execution_count": null,
   "metadata": {},
   "outputs": [],
   "source": []
  }
 ],
 "metadata": {
  "kernelspec": {
   "display_name": "Python 3",
   "language": "python",
   "name": "python3"
  },
  "language_info": {
   "codemirror_mode": {
    "name": "ipython",
    "version": 3
   },
   "file_extension": ".py",
   "mimetype": "text/x-python",
   "name": "python",
   "nbconvert_exporter": "python",
   "pygments_lexer": "ipython3",
   "version": "3.7.3"
  }
 },
 "nbformat": 4,
 "nbformat_minor": 2
}
